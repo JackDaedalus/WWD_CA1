{
 "cells": [
  {
   "cell_type": "markdown",
   "metadata": {},
   "source": [
    "# Working With Data - Continuous Assessment 1 - Class Group: TU060 <a class=\"tocSkip\">"
   ]
  },
  {
   "cell_type": "markdown",
   "metadata": {},
   "source": [
    "# MSc in Computer Science - Data Science (Part Time) <a class=\"tocSkip\">"
   ]
  },
  {
   "cell_type": "markdown",
   "metadata": {},
   "source": [
    "# Student Name: Ciaran Finnegan  <a class=\"tocSkip\">"
   ]
  },
  {
   "cell_type": "markdown",
   "metadata": {},
   "source": [
    "# Student No: D21124026 <a class=\"tocSkip\">"
   ]
  },
  {
   "cell_type": "markdown",
   "metadata": {},
   "source": [
    "#### Student EMail: D21124026@mytudublin.ie <a class=\"tocSkip\">"
   ]
  },
  {
   "cell_type": "markdown",
   "metadata": {},
   "source": [
    "## November 2021 <a class=\"tocSkip\">"
   ]
  },
  {
   "cell_type": "markdown",
   "metadata": {},
   "source": [
    "# "
   ]
  },
  {
   "cell_type": "markdown",
   "metadata": {},
   "source": [
    "### What insights can various global socioecononmic and political datasets provide us in terms of explaining what makes a nation 'happy? <a class=\"tocSkip\">\n"
   ]
  },
  {
   "cell_type": "markdown",
   "metadata": {},
   "source": [
    "#### This project takes the World Happiness Report from Kaggle as the core dataset.  <a class=\"tocSkip\">\n",
    "\n",
    "A number of seperate global socioeconomic and political dataset are combined with this 'happiness' dataset to look for deeper insight of what actually may contribute to making a given country a 'happy' place."
   ]
  },
  {
   "cell_type": "markdown",
   "metadata": {},
   "source": [
    "## <a class=\"tocSkip\">"
   ]
  },
  {
   "cell_type": "markdown",
   "metadata": {},
   "source": [
    "#### The CA follows a three-part structure. <a class=\"tocSkip\">\n",
    "\n",
    "Section 1: Works begins with initial data loads, and additional tasks to create our combined dataset of 'happiness' attributes for individuals countries.\n",
    "\n",
    "Section 2: Exploration of the individual and merged datasets takes place to provide an overview of data strcuture and content.\n",
    "\n",
    "Section 3: The project ends with a deeper dive into whether we can isolate more easily understood factors that impact on whther a country can be deemed 'happy' or not.\n"
   ]
  },
  {
   "cell_type": "markdown",
   "metadata": {},
   "source": [
    "### <a class=\"tocSkip\">"
   ]
  },
  {
   "cell_type": "markdown",
   "metadata": {
    "toc": true
   },
   "source": [
    "<h1>Table of Contents<span class=\"tocSkip\"></span></h1>\n",
    "<div class=\"toc\"><ul class=\"toc-item\"><li><span><a href=\"#Data-Import,-Cleaning-and-Merging\" data-toc-modified-id=\"Data-Import,-Cleaning-and-Merging-1\"><span class=\"toc-item-num\">1&nbsp;&nbsp;</span>Data Import, Cleaning and Merging</a></span><ul class=\"toc-item\"><li><span><a href=\"#Import-Libraries\" data-toc-modified-id=\"Import-Libraries-1.1\"><span class=\"toc-item-num\">1.1&nbsp;&nbsp;</span>Import Libraries</a></span><ul class=\"toc-item\"><li><span><a href=\"#Panda-+-Numpy\" data-toc-modified-id=\"Panda-+-Numpy-1.1.1\"><span class=\"toc-item-num\">1.1.1&nbsp;&nbsp;</span>Panda + Numpy</a></span></li><li><span><a href=\"#Matplotlib-Library\" data-toc-modified-id=\"Matplotlib-Library-1.1.2\"><span class=\"toc-item-num\">1.1.2&nbsp;&nbsp;</span>Matplotlib Library</a></span></li><li><span><a href=\"#Seaborn-Library\" data-toc-modified-id=\"Seaborn-Library-1.1.3\"><span class=\"toc-item-num\">1.1.3&nbsp;&nbsp;</span>Seaborn Library</a></span></li><li><span><a href=\"#Plotly-Libraries\" data-toc-modified-id=\"Plotly-Libraries-1.1.4\"><span class=\"toc-item-num\">1.1.4&nbsp;&nbsp;</span>Plotly Libraries</a></span></li></ul></li><li><span><a href=\"#Load-External-Datasets\" data-toc-modified-id=\"Load-External-Datasets-1.2\"><span class=\"toc-item-num\">1.2&nbsp;&nbsp;</span>Load External Datasets</a></span><ul class=\"toc-item\"><li><span><a href=\"#Kaggle-Happiness-Dataset\" data-toc-modified-id=\"Kaggle-Happiness-Dataset-1.2.1\"><span class=\"toc-item-num\">1.2.1&nbsp;&nbsp;</span>Kaggle Happiness Dataset</a></span></li><li><span><a href=\"#GDP-and-Political-Stability-Dataset\" data-toc-modified-id=\"GDP-and-Political-Stability-Dataset-1.2.2\"><span class=\"toc-item-num\">1.2.2&nbsp;&nbsp;</span>GDP and Political Stability Dataset</a></span></li><li><span><a href=\"#Human-Freedom-Index-Dataset\" data-toc-modified-id=\"Human-Freedom-Index-Dataset-1.2.3\"><span class=\"toc-item-num\">1.2.3&nbsp;&nbsp;</span>Human Freedom Index Dataset</a></span></li><li><span><a href=\"#CIA-World-Factbook-Dataset\" data-toc-modified-id=\"CIA-World-Factbook-Dataset-1.2.4\"><span class=\"toc-item-num\">1.2.4&nbsp;&nbsp;</span>CIA World Factbook Dataset</a></span></li><li><span><a href=\"#Global-Political-Regimes-Dataset\" data-toc-modified-id=\"Global-Political-Regimes-Dataset-1.2.5\"><span class=\"toc-item-num\">1.2.5&nbsp;&nbsp;</span>Global Political Regimes Dataset</a></span></li></ul></li><li><span><a href=\"#Dataframe-Content-Overviews\" data-toc-modified-id=\"Dataframe-Content-Overviews-1.3\"><span class=\"toc-item-num\">1.3&nbsp;&nbsp;</span>Dataframe Content Overviews</a></span></li><li><span><a href=\"#Clean-Up-Datasets\" data-toc-modified-id=\"Clean-Up-Datasets-1.4\"><span class=\"toc-item-num\">1.4&nbsp;&nbsp;</span>Clean Up Datasets</a></span><ul class=\"toc-item\"><li><span><a href=\"#GDP/Political-Fragility:\" data-toc-modified-id=\"GDP/Political-Fragility:-1.4.1\"><span class=\"toc-item-num\">1.4.1&nbsp;&nbsp;</span>GDP/Political Fragility:</a></span></li><li><span><a href=\"#Human-Freedom-Index\" data-toc-modified-id=\"Human-Freedom-Index-1.4.2\"><span class=\"toc-item-num\">1.4.2&nbsp;&nbsp;</span>Human Freedom Index</a></span></li><li><span><a href=\"#CIA-WorldFact-Data\" data-toc-modified-id=\"CIA-WorldFact-Data-1.4.3\"><span class=\"toc-item-num\">1.4.3&nbsp;&nbsp;</span>CIA WorldFact Data</a></span></li><li><span><a href=\"#Political-Regime-Data\" data-toc-modified-id=\"Political-Regime-Data-1.4.4\"><span class=\"toc-item-num\">1.4.4&nbsp;&nbsp;</span>Political Regime Data</a></span></li></ul></li><li><span><a href=\"#Merge-Datasets\" data-toc-modified-id=\"Merge-Datasets-1.5\"><span class=\"toc-item-num\">1.5&nbsp;&nbsp;</span>Merge Datasets</a></span><ul class=\"toc-item\"><li><span><a href=\"#Kaggle-Happiness-+-State-Fragility-dataframe\" data-toc-modified-id=\"Kaggle-Happiness-+-State-Fragility-dataframe-1.5.1\"><span class=\"toc-item-num\">1.5.1&nbsp;&nbsp;</span>Kaggle Happiness + State Fragility dataframe</a></span></li><li><span><a href=\"#New-Happiness-dataframe-+-'Human-Freedom'-Attributes\" data-toc-modified-id=\"New-Happiness-dataframe-+-'Human-Freedom'-Attributes-1.5.2\"><span class=\"toc-item-num\">1.5.2&nbsp;&nbsp;</span>New Happiness dataframe + 'Human Freedom' Attributes</a></span></li><li><span><a href=\"#New-Happiness-+-CIA-WorldFact-Data\" data-toc-modified-id=\"New-Happiness-+-CIA-WorldFact-Data-1.5.3\"><span class=\"toc-item-num\">1.5.3&nbsp;&nbsp;</span>New Happiness + CIA WorldFact Data</a></span></li><li><span><a href=\"#New-Happiness-+-Political-Regime-Data\" data-toc-modified-id=\"New-Happiness-+-Political-Regime-Data-1.5.4\"><span class=\"toc-item-num\">1.5.4&nbsp;&nbsp;</span>New Happiness + Political Regime Data</a></span></li></ul></li><li><span><a href=\"#Final-Check-on-New-Happiness-Dataframe\" data-toc-modified-id=\"Final-Check-on-New-Happiness-Dataframe-1.6\"><span class=\"toc-item-num\">1.6&nbsp;&nbsp;</span>Final Check on New Happiness Dataframe</a></span></li></ul></li><li><span><a href=\"#Data-Exploration:-Augmented-Global-'Happiness'-Dataframe\" data-toc-modified-id=\"Data-Exploration:-Augmented-Global-'Happiness'-Dataframe-2\"><span class=\"toc-item-num\">2&nbsp;&nbsp;</span>Data Exploration: Augmented Global 'Happiness' Dataframe</a></span><ul class=\"toc-item\"><li><span><a href=\"#Grouping-of-Nations-Per-Geographical-Regions\" data-toc-modified-id=\"Grouping-of-Nations-Per-Geographical-Regions-2.1\"><span class=\"toc-item-num\">2.1&nbsp;&nbsp;</span>Grouping of Nations Per Geographical Regions</a></span><ul class=\"toc-item\"><li><span><a href=\"#Bar-Chart---Countries-Per-Region\" data-toc-modified-id=\"Bar-Chart---Countries-Per-Region-2.1.1\"><span class=\"toc-item-num\">2.1.1&nbsp;&nbsp;</span>Bar Chart - Countries Per Region</a></span></li><li><span><a href=\"#Choropleth-Global-Maps\" data-toc-modified-id=\"Choropleth-Global-Maps-2.1.2\"><span class=\"toc-item-num\">2.1.2&nbsp;&nbsp;</span>Choropleth Global Maps</a></span></li><li><span><a href=\"#Box-Plots-of-Attributes-Contributing-to-'Happiness'\" data-toc-modified-id=\"Box-Plots-of-Attributes-Contributing-to-'Happiness'-2.1.3\"><span class=\"toc-item-num\">2.1.3&nbsp;&nbsp;</span>Box Plots of Attributes Contributing to 'Happiness'</a></span></li><li><span><a href=\"#Bar-Chart:-Political-Regimes\" data-toc-modified-id=\"Bar-Chart:-Political-Regimes-2.1.4\"><span class=\"toc-item-num\">2.1.4&nbsp;&nbsp;</span>Bar Chart: Political Regimes</a></span></li></ul></li></ul></li><li><span><a href=\"#Data-Analysis:-What-can-the-data-tell-us?\" data-toc-modified-id=\"Data-Analysis:-What-can-the-data-tell-us?-3\"><span class=\"toc-item-num\">3&nbsp;&nbsp;</span>Data Analysis: What can the data tell us?</a></span><ul class=\"toc-item\"><li><span><a href=\"#Happiness-+-GDP/Political-Fragility\" data-toc-modified-id=\"Happiness-+-GDP/Political-Fragility-3.1\"><span class=\"toc-item-num\">3.1&nbsp;&nbsp;</span>Happiness + GDP/Political Fragility</a></span></li><li><span><a href=\"#Happiness-+-GDP/Internet-Access\" data-toc-modified-id=\"Happiness-+-GDP/Internet-Access-3.2\"><span class=\"toc-item-num\">3.2&nbsp;&nbsp;</span>Happiness + GDP/Internet Access</a></span></li><li><span><a href=\"#Happiness-+-Human-Freedom\" data-toc-modified-id=\"Happiness-+-Human-Freedom-3.3\"><span class=\"toc-item-num\">3.3&nbsp;&nbsp;</span>Happiness + Human Freedom</a></span></li><li><span><a href=\"#Happiness-+-Political-Regimes\" data-toc-modified-id=\"Happiness-+-Political-Regimes-3.4\"><span class=\"toc-item-num\">3.4&nbsp;&nbsp;</span>Happiness + Political Regimes</a></span></li></ul></li><li><span><a href=\"#Conclusions\" data-toc-modified-id=\"Conclusions-4\"><span class=\"toc-item-num\">4&nbsp;&nbsp;</span>Conclusions</a></span></li><li><span><a href=\"#References\" data-toc-modified-id=\"References-5\"><span class=\"toc-item-num\">5&nbsp;&nbsp;</span>References</a></span></li></ul></div>"
   ]
  },
  {
   "cell_type": "markdown",
   "metadata": {},
   "source": [
    "## Data Import, Cleaning and Merging"
   ]
  },
  {
   "cell_type": "markdown",
   "metadata": {},
   "source": [
    "### The assignment starts with a Kaggle Global 'Happiness' dataset. This becomes our primary dataframe, which is then augmented with attributes from four additional global information datasets. <a class=\"tocSkip\">"
   ]
  },
  {
   "cell_type": "markdown",
   "metadata": {},
   "source": [
    "### Import Libraries"
   ]
  },
  {
   "cell_type": "markdown",
   "metadata": {},
   "source": [
    "Note: It is assumed that the matplotlib library has been installed on the user's machine before it is available for import.\n",
    "\n",
    "```bash\n",
    "> pip install matplotlib\n",
    "> pip install plotly\n",
    "```\n"
   ]
  },
  {
   "cell_type": "markdown",
   "metadata": {},
   "source": [
    "#### Panda + Numpy"
   ]
  },
  {
   "cell_type": "code",
   "execution_count": null,
   "metadata": {},
   "outputs": [],
   "source": [
    "# Python libraries for data manipulation\n",
    "import numpy as np\n",
    "import pandas as pd"
   ]
  },
  {
   "cell_type": "markdown",
   "metadata": {},
   "source": [
    "Set up additional libraries for graphical presentations. A number of earlier graphs use Matplotlib. In later sections, Plotly graphs are used to add additional interactive features to the global 'happiness' visuals."
   ]
  },
  {
   "cell_type": "markdown",
   "metadata": {},
   "source": [
    "#### Matplotlib Library"
   ]
  },
  {
   "cell_type": "code",
   "execution_count": null,
   "metadata": {},
   "outputs": [],
   "source": [
    "import matplotlib.pyplot as plt"
   ]
  },
  {
   "cell_type": "markdown",
   "metadata": {},
   "source": [
    "#### Seaborn Library"
   ]
  },
  {
   "cell_type": "code",
   "execution_count": null,
   "metadata": {},
   "outputs": [],
   "source": [
    "# import and set Seaborn style - this will update Matplotlib style too\n",
    "import seaborn as sns\n",
    "sns.set(style=\"darkgrid\")\n",
    "sns.set_context(\"talk\", font_scale=1)"
   ]
  },
  {
   "cell_type": "markdown",
   "metadata": {},
   "source": [
    "#### Plotly Libraries"
   ]
  },
  {
   "cell_type": "code",
   "execution_count": null,
   "metadata": {},
   "outputs": [],
   "source": [
    "# For global graphics\n",
    "import plotly.express as px\n",
    "import plotly.graph_objects as go"
   ]
  },
  {
   "cell_type": "markdown",
   "metadata": {},
   "source": [
    "### <a class=\"tocSkip\">"
   ]
  },
  {
   "cell_type": "code",
   "execution_count": null,
   "metadata": {},
   "outputs": [],
   "source": [
    "import warnings\n",
    "warnings.filterwarnings(\"ignore\")"
   ]
  },
  {
   "cell_type": "markdown",
   "metadata": {},
   "source": [
    "### <a class=\"tocSkip\">"
   ]
  },
  {
   "cell_type": "markdown",
   "metadata": {},
   "source": [
    "Set up a list of colours to be used in some of the graphs, as data is being cycled through and displayed"
   ]
  },
  {
   "cell_type": "code",
   "execution_count": null,
   "metadata": {},
   "outputs": [],
   "source": [
    "# Set up colour palette for use in the horizonatal box plot\n",
    "colours = ['indianred','lightseagreen','goldenrod','magenta','green','blue','cyan','red',\n",
    "           'teal','mediumpurple','ghostwhite','honeydew','slateblue','darkorchid','darksalmon','darkgrey']"
   ]
  },
  {
   "cell_type": "markdown",
   "metadata": {},
   "source": [
    "# "
   ]
  },
  {
   "cell_type": "markdown",
   "metadata": {},
   "source": [
    "### Load External Datasets"
   ]
  },
  {
   "cell_type": "markdown",
   "metadata": {},
   "source": [
    "#### Kaggle Happiness Dataset"
   ]
  },
  {
   "cell_type": "markdown",
   "metadata": {},
   "source": [
    "Start with a 2015 Kaggle File that contains a happiness score (range 1 - 10) for 155 countries around the world.[1]"
   ]
  },
  {
   "cell_type": "code",
   "execution_count": null,
   "metadata": {},
   "outputs": [],
   "source": [
    "# Read file, located in same directory as the notebook, for World Happiness Index data\n",
    "df_WorldHappinessIndex = pd.read_csv('World_Happiness_Index_In_2015.csv')\n"
   ]
  },
  {
   "cell_type": "code",
   "execution_count": null,
   "metadata": {},
   "outputs": [],
   "source": [
    "# Display basic file data for the initial Kaggle 'Gloabl Happiness' datatset\n",
    "df_WorldHappinessIndex"
   ]
  },
  {
   "cell_type": "markdown",
   "metadata": {},
   "source": [
    "#### <a class=\"tocSkip\">"
   ]
  },
  {
   "cell_type": "markdown",
   "metadata": {},
   "source": [
    "#### Four additional datasets are loaded extend this primary 'happiness' dataframe. <a class=\"tocSkip\">"
   ]
  },
  {
   "cell_type": "markdown",
   "metadata": {},
   "source": [
    "#### The code below loads the datasets and a tabular extract is shown at the end of this section (before data clean-up commences).<a class=\"tocSkip\">"
   ]
  },
  {
   "cell_type": "markdown",
   "metadata": {},
   "source": [
    "### <a class=\"tocSkip\">"
   ]
  },
  {
   "cell_type": "markdown",
   "metadata": {},
   "source": [
    "#### GDP and Political Stability Dataset"
   ]
  },
  {
   "cell_type": "markdown",
   "metadata": {},
   "source": [
    "To begin the process of building an augmented database on global nations 'happiness', the new dataset to load contains a comparison of GDP Per Capita and a Political Stability Index for individual countries over approximately the last 20 years.\n",
    "\n",
    "The source of the dataset is the Our World in Data website - https://ourworldindata.org/\n",
    "\n",
    "Our Kaggle dataset is only concerned with the year 2015 so we will be manipulating this GDP/Stability file to focus on just those entries."
   ]
  },
  {
   "cell_type": "code",
   "execution_count": null,
   "metadata": {},
   "outputs": [],
   "source": [
    "# Read file, located in same directory as this notebook, for GDP/Political Stability data\n",
    "df_GDPStateFragility = pd.read_csv('gdp-per-capita-vs-state-fragility.csv')"
   ]
  },
  {
   "cell_type": "markdown",
   "metadata": {},
   "source": [
    "#### <a class=\"tocSkip\">"
   ]
  },
  {
   "cell_type": "markdown",
   "metadata": {},
   "source": [
    "#### Human Freedom Index Dataset"
   ]
  },
  {
   "cell_type": "markdown",
   "metadata": {},
   "source": [
    "The next file to load is the 'Human Freedom Index' - https://www.openintro.org/data/index.php?data=hfi\n",
    "\n",
    "This is a dataset sourced from the OpenIntro portal. Using the website's own description...\"The Human Freedom Index is a report that attempts to summarize the idea of \"freedom\" through a bunch of different variables for many countries around the globe.\""
   ]
  },
  {
   "cell_type": "code",
   "execution_count": null,
   "metadata": {},
   "outputs": [],
   "source": [
    "# Read file, located in same directory as this notebook, for Human Freedom Index data\n",
    "df_HumanFreedomIndex = pd.read_csv('humanfreedomind.csv')"
   ]
  },
  {
   "cell_type": "markdown",
   "metadata": {},
   "source": [
    "The Human Freedom Index contains variables which we will correlate later against the Happiness Index, but it also contains the useful country attributes for ISO code and World Region that will be useful in later analysis."
   ]
  },
  {
   "cell_type": "markdown",
   "metadata": {},
   "source": [
    "#### <a class=\"tocSkip\">"
   ]
  },
  {
   "cell_type": "markdown",
   "metadata": {},
   "source": [
    "#### CIA World Factbook Dataset"
   ]
  },
  {
   "cell_type": "markdown",
   "metadata": {},
   "source": [
    "The next dataset to load is the 'CIA Factbook Details on Countries'. (https://www.cia.gov/the-world-factbook/)\n",
    "\n",
    "This is a collection of country-level statistics from the US Central Intelligence Agency (CIA). It contains a series of attributes that we will compare against the 'happiness index' to determine if we can find any meaningful and interesting correlations.\n",
    "\n",
    "Details on dataset attributes can be read here: https://www.openintro.org/data/index.php?data=cia_factbook"
   ]
  },
  {
   "cell_type": "code",
   "execution_count": null,
   "metadata": {},
   "outputs": [],
   "source": [
    "# Read file, located in same directory as this notebook, for CIA Factbook data\n",
    "df_CIAFactbook = pd.read_csv('cia_factbook.csv')"
   ]
  },
  {
   "cell_type": "markdown",
   "metadata": {},
   "source": [
    "# "
   ]
  },
  {
   "cell_type": "markdown",
   "metadata": {},
   "source": [
    "#### Global Political Regimes Dataset"
   ]
  },
  {
   "cell_type": "markdown",
   "metadata": {},
   "source": [
    "The next dataset to load is the 'Political Regimes' dataset from the 'Our World in Data website': https://ourworldindata.org/grapher/political-regimes\n",
    "        "
   ]
  },
  {
   "cell_type": "markdown",
   "metadata": {},
   "source": [
    "The dataset groups the nations of the world under four specific political regime classifications;  \n",
    "\n",
    "\n",
    "```bash\n",
    "> 0 = Closed autocracy \n",
    "> 1 = Electoral autocracy \n",
    "> 2 = Electoral democracy\n",
    "> 3 = Liberal democracy\n",
    "```"
   ]
  },
  {
   "cell_type": "markdown",
   "metadata": {},
   "source": [
    "The definition of these political regime classifications are given as;  \n",
    "\n",
    "\n",
    "```bash\n",
    "> 0 = Closed autocracy. No multiparty elections for the chief executive or the legislature.\n",
    "\n",
    "> 1 = Electoral autocracy. De-facto multiparty elections for the chief executive and the legislature but failing to achieve that elections are free and fair, or de-facto multiparty.  \n",
    "\n",
    "> 2 = Electoral democracy. De-facto free and fair multiparty elections but either access to justice, or transparent law enforcement, or liberal principles, as well as legislative constraints on the executive not satisfied. \n",
    "\n",
    "> 3 = Liberal democracy. De-facto free and fair multiparty elections; access to justice, transparent law enforcement and the principles of personal liberties satisfied. Judicial as well as legislative constraints exist on the executive. \n",
    "```"
   ]
  },
  {
   "cell_type": "code",
   "execution_count": null,
   "metadata": {},
   "outputs": [],
   "source": [
    "# Load the dataset\n",
    "df_PolRegimes = pd.read_csv('political-regimes.csv')"
   ]
  },
  {
   "cell_type": "markdown",
   "metadata": {},
   "source": [
    "# "
   ]
  },
  {
   "cell_type": "markdown",
   "metadata": {},
   "source": [
    "### Dataframe Content Overviews"
   ]
  },
  {
   "cell_type": "markdown",
   "metadata": {},
   "source": [
    "####  Part 2 of this report will delve into all the datasets in more detail but for now let's generate some basic graphs or table output of the data loaded to confirm some basic details. <a class=\"tocSkip\">"
   ]
  },
  {
   "cell_type": "markdown",
   "metadata": {},
   "source": [
    "First: A quick look at the top and bottom of the Kaggle dataset 'happiness' index.."
   ]
  },
  {
   "cell_type": "code",
   "execution_count": null,
   "metadata": {
    "scrolled": true
   },
   "outputs": [],
   "source": [
    "# Vertical Bar Chart of top nations in happiness index\n",
    "# The 'Top 20' cut off allows 'Ireland' to be included in graph\n",
    "top_20 = df_WorldHappinessIndex[df_WorldHappinessIndex[\"Happiness Rank\"] < 20] "
   ]
  },
  {
   "cell_type": "code",
   "execution_count": null,
   "metadata": {},
   "outputs": [],
   "source": [
    "# Plot horizontal bar chart with Matplotlib / Seaborn\n",
    "sns.set_style(\"whitegrid\")\n",
    "height = 20\n",
    "width = 10\n",
    "fig, ax = plt.subplots(figsize=(height,width)) \n",
    "ax.set_title('Most Happy Nations - 2015')\n",
    "sns.barplot(data=top_20, x=top_20[\"Happiness Score\"],y=top_20[\"Country\"], color=colours[2], ax=ax)\n",
    "plt.show()"
   ]
  },
  {
   "cell_type": "code",
   "execution_count": null,
   "metadata": {},
   "outputs": [],
   "source": [
    "# Vertical Bar Chart of bottom nations in happiness index\n",
    "# The bottom 10 are sufficient for this graph\n",
    "bottom_10 = df_WorldHappinessIndex[df_WorldHappinessIndex[\"Happiness Rank\"] > 145] "
   ]
  },
  {
   "cell_type": "code",
   "execution_count": null,
   "metadata": {},
   "outputs": [],
   "source": [
    "# Graph bottom 10 countries in Happiness list\n",
    "height = 20\n",
    "width = 10\n",
    "fig, ax1 = plt.subplots(figsize=(height,width)) \n",
    "ax1.set_title('Least Happy Nations - 2015')\n",
    "sns.barplot(data=bottom_10, x=bottom_10[\"Happiness Score\"],y=bottom_10[\"Country\"], color=colours[0], ax=ax1)\n",
    "plt.show()"
   ]
  },
  {
   "cell_type": "markdown",
   "metadata": {},
   "source": [
    "#### <a class=\"tocSkip\">"
   ]
  },
  {
   "cell_type": "markdown",
   "metadata": {},
   "source": [
    "Second: A brief overview of the GDP/State Fragility dataframe"
   ]
  },
  {
   "cell_type": "code",
   "execution_count": null,
   "metadata": {},
   "outputs": [],
   "source": [
    "# Display basic dataframe information for GDP/Political Stability data in 2015 (our year of interest)\n",
    "df_GDPStateFragility[df_GDPStateFragility['Year'] == 2015]"
   ]
  },
  {
   "cell_type": "markdown",
   "metadata": {},
   "source": [
    "#### <a class=\"tocSkip\">"
   ]
  },
  {
   "cell_type": "markdown",
   "metadata": {},
   "source": [
    "Third: A quick look at the structure of the 'Human Freedom' index. There are 123 attributes in the dataset, so this view is just the first 7 rows and a sub-set of columns."
   ]
  },
  {
   "cell_type": "code",
   "execution_count": null,
   "metadata": {},
   "outputs": [],
   "source": [
    "# Display basic dataframe information for Human Freedom Index data\n",
    "df_HumanFreedomIndex.iloc[1:7,[0,1,2,3,7,8,9,-3,-2,-1]]"
   ]
  },
  {
   "cell_type": "markdown",
   "metadata": {},
   "source": [
    "####  <a class=\"tocSkip\">"
   ]
  },
  {
   "cell_type": "markdown",
   "metadata": {},
   "source": [
    "Fourth: A quick look at the structure of the 'CIA Country Factbook' data. "
   ]
  },
  {
   "cell_type": "code",
   "execution_count": null,
   "metadata": {},
   "outputs": [],
   "source": [
    "# Display basic file data for the CIA Worldbook datatset - display first 7 rows\n",
    "df_CIAFactbook.iloc[1:7,:]"
   ]
  },
  {
   "cell_type": "markdown",
   "metadata": {},
   "source": [
    "# "
   ]
  },
  {
   "cell_type": "markdown",
   "metadata": {},
   "source": [
    "Fifth: Overview of the Political Regime dataset. <a class=\"tocSkip\">"
   ]
  },
  {
   "cell_type": "code",
   "execution_count": null,
   "metadata": {},
   "outputs": [],
   "source": [
    "# Present a brief overview of dataset - limited to our year of interest, which is 2015\n",
    "df_PolRegimes[df_PolRegimes['Year'] == 2015]"
   ]
  },
  {
   "cell_type": "markdown",
   "metadata": {},
   "source": [
    "####  <a class=\"tocSkip\">"
   ]
  },
  {
   "cell_type": "markdown",
   "metadata": {},
   "source": [
    "###  Clean Up Datasets"
   ]
  },
  {
   "cell_type": "markdown",
   "metadata": {},
   "source": [
    "### There are some missing data attributes and issus with some of the data content which need to be addressed before we can create a merged custom 'happiness' dataset with which to generate the interesting/insightful visualisations.  <a class=\"tocSkip\">"
   ]
  },
  {
   "cell_type": "markdown",
   "metadata": {},
   "source": [
    "Kaggle Happiness: The assumption is the our initial dataset, which is the Kaggle happiness index, is clean and complete but some basic checks are performed here.  "
   ]
  },
  {
   "cell_type": "markdown",
   "metadata": {},
   "source": [
    "To improve the later vizualisations columns will be re-named in each dataframe to emhance understanding/presentation."
   ]
  },
  {
   "cell_type": "code",
   "execution_count": null,
   "metadata": {},
   "outputs": [],
   "source": [
    "# Rename Columns in the dataframe read in from the Kaggle dataset\n",
    "df_WorldHappinessIndex.rename(columns={'Economy (GDP per Capita)':'GDP per Capita',\n",
    "                        'Health (Life Expectancy)':'Life Expectancy',             \n",
    "                        'Trust (Government Corruption)':'Trust in Gov'},inplace=True)"
   ]
  },
  {
   "cell_type": "code",
   "execution_count": null,
   "metadata": {},
   "outputs": [],
   "source": [
    "# Checking for null values in Kaggle Happiness dataset\n",
    "[print('Any Null Values in the Kaggle 2015 Happiness Dataframe?','\\n' ,df_WorldHappinessIndex.isnull().any())]"
   ]
  },
  {
   "cell_type": "code",
   "execution_count": null,
   "metadata": {},
   "outputs": [],
   "source": [
    "## Although it is an unlikely scenario - a quick check is run to see if any duplicate entires exist\n",
    "[print('Numbers of duplicated rows in the Kaggle 2015 Happiness Dataframe?','\\n' ,df_WorldHappinessIndex.duplicated().sum())]"
   ]
  },
  {
   "cell_type": "markdown",
   "metadata": {},
   "source": [
    "The 2015 Kaggle Happiness dataset has no missing data and is ready for us to proceed."
   ]
  },
  {
   "cell_type": "markdown",
   "metadata": {},
   "source": [
    "#### <a class=\"tocSkip\">"
   ]
  },
  {
   "cell_type": "markdown",
   "metadata": {},
   "source": [
    "####  GDP/Political Fragility: "
   ]
  },
  {
   "cell_type": "markdown",
   "metadata": {},
   "source": [
    "#### Even a general visual inspection of the dataset overview in the earlier section of this report will show that there are data gaps in this dataset. <a class=\"tocSkip\">"
   ]
  },
  {
   "cell_type": "markdown",
   "metadata": {},
   "source": [
    "We only need the 2015 data so our first step is to filter out this information and then assess the data quality."
   ]
  },
  {
   "cell_type": "code",
   "execution_count": null,
   "metadata": {},
   "outputs": [],
   "source": [
    "## Filter the dataset to extract only the 2015 data rows from the GDP/Political State Fragility data"
   ]
  },
  {
   "cell_type": "code",
   "execution_count": null,
   "metadata": {},
   "outputs": [],
   "source": [
    "df_GDPStateFragility_2015 = df_GDPStateFragility[df_GDPStateFragility['Year'] == 2015]"
   ]
  },
  {
   "cell_type": "code",
   "execution_count": null,
   "metadata": {},
   "outputs": [],
   "source": [
    "## Rename Columns - to improve data understanding\n",
    "df_GDPStateFragility_2015.rename(columns={'Entity':'Country', 'Code':'ISO_Country_Cd', \n",
    "                        'GDP per capita, PPP (constant 2017 international $)':'GDP per capita', \n",
    "                        'Fragile States Index - ffp_fsi':'Political Fragility',\n",
    "                        'Total population (Gapminder, HYDE & UN)':'Population'},inplace=True)"
   ]
  },
  {
   "cell_type": "code",
   "execution_count": null,
   "metadata": {},
   "outputs": [],
   "source": [
    "## check dataset structure again\n",
    "#df_GDPStateFragility_2015"
   ]
  },
  {
   "cell_type": "markdown",
   "metadata": {},
   "source": [
    "We will be using a later dataset for 'Regional' global breakdowns, as our immediate concern is only for data rows with valid country codes. The rows with no ISO codes will be checked and dropped from this 2015 GDP/Political Fragility dataset."
   ]
  },
  {
   "cell_type": "code",
   "execution_count": null,
   "metadata": {},
   "outputs": [],
   "source": [
    "## Filer out tthe 2015 GDP/Political Fragility dataframe to look at rows with missing ISO Country Codes "
   ]
  },
  {
   "cell_type": "code",
   "execution_count": null,
   "metadata": {},
   "outputs": [],
   "source": [
    "df_temp = df_GDPStateFragility_2015.loc[df_GDPStateFragility_2015[\"ISO_Country_Cd\"].isnull()]"
   ]
  },
  {
   "cell_type": "code",
   "execution_count": null,
   "metadata": {},
   "outputs": [],
   "source": [
    "df_temp"
   ]
  },
  {
   "cell_type": "code",
   "execution_count": null,
   "metadata": {},
   "outputs": [],
   "source": [
    "df_GDPStateFragility_2015 = df_GDPStateFragility_2015.loc[df_GDPStateFragility_2015[\"ISO_Country_Cd\"].notnull()]"
   ]
  },
  {
   "cell_type": "code",
   "execution_count": null,
   "metadata": {},
   "outputs": [],
   "source": [
    "## Check for Null Political Fragility values - can these also be removed?"
   ]
  },
  {
   "cell_type": "code",
   "execution_count": null,
   "metadata": {},
   "outputs": [],
   "source": [
    "df_temp2 = df_GDPStateFragility_2015.loc[df_GDPStateFragility_2015[\"Political Fragility\"].isnull()]"
   ]
  },
  {
   "cell_type": "code",
   "execution_count": null,
   "metadata": {},
   "outputs": [],
   "source": [
    "df_temp2"
   ]
  },
  {
   "cell_type": "code",
   "execution_count": null,
   "metadata": {},
   "outputs": [],
   "source": [
    "## Null Political Fragility values - what is the impact of removing these?"
   ]
  },
  {
   "cell_type": "code",
   "execution_count": null,
   "metadata": {},
   "outputs": [],
   "source": [
    "df_GDPStateFragility_2015 = df_GDPStateFragility_2015.loc[df_GDPStateFragility_2015[\"Political Fragility\"].notnull()]"
   ]
  },
  {
   "cell_type": "code",
   "execution_count": null,
   "metadata": {},
   "outputs": [],
   "source": [
    "#df_GDPStateFragility_2015 "
   ]
  },
  {
   "cell_type": "code",
   "execution_count": null,
   "metadata": {},
   "outputs": [],
   "source": [
    "# Final check for null values in Political Fragility dataframe\n",
    "[print('Any Null Values in the Political Fragility dataframe?','\\n' ,df_GDPStateFragility_2015.isnull().any())]"
   ]
  },
  {
   "cell_type": "code",
   "execution_count": null,
   "metadata": {},
   "outputs": [],
   "source": [
    "## Although it is an unlikely scenario - a quick check is run to see if any duplicate entires exist\n",
    "[print('Numbers of duplicated rows in the State Fragility 2015 Dataframe?','\\n' ,df_GDPStateFragility_2015.duplicated().sum())]"
   ]
  },
  {
   "cell_type": "markdown",
   "metadata": {},
   "source": [
    "The Political Fragility dataframe is ready to merge with the primary 'Hapiness' dataframe in the sections below."
   ]
  },
  {
   "cell_type": "markdown",
   "metadata": {},
   "source": [
    "# "
   ]
  },
  {
   "cell_type": "markdown",
   "metadata": {},
   "source": [
    "####  Human Freedom Index"
   ]
  },
  {
   "cell_type": "markdown",
   "metadata": {},
   "source": [
    "####  As with the previous dataset there are a number of missing entries in the Human Index data that we will need to consider. <a class=\"tocSkip\">"
   ]
  },
  {
   "cell_type": "markdown",
   "metadata": {},
   "source": [
    "The Human Freedom dataset has entries for many years. We will limit ourselves to 2018 and create a dataframe with just the rows for that year."
   ]
  },
  {
   "cell_type": "code",
   "execution_count": null,
   "metadata": {},
   "outputs": [],
   "source": [
    "# df_HumanFreedomIndex\n",
    "# Only select the four data attributes entries that we need (for the year 2015) from Human Freedon Index dataframe\n",
    "df_FreedonTemp1 = df_HumanFreedomIndex.loc[(df_HumanFreedomIndex['year'] == 2015), \n",
    "                                           [\"year\",\"ISO_code\",\n",
    "                                           \"countries\",\"hf_score\",\"hf_rank\"]]"
   ]
  },
  {
   "cell_type": "code",
   "execution_count": null,
   "metadata": {},
   "outputs": [],
   "source": [
    "## Rename Columns in temp 'Human Freedom' dataframe to allow joining/merging on ISO value for countries\n",
    "df_FreedonTemp1.rename(columns={'ISO_code':'ISO_Country_Cd'},inplace=True)"
   ]
  },
  {
   "cell_type": "code",
   "execution_count": null,
   "metadata": {},
   "outputs": [],
   "source": [
    "# Checking for null values in Human Freedon Index dataframe\n",
    "[print('Any Null Values in the Human Freedon Index dataframe?','\\n' ,df_FreedonTemp1.isnull().any())]"
   ]
  },
  {
   "cell_type": "code",
   "execution_count": null,
   "metadata": {},
   "outputs": [],
   "source": [
    "# Pull out data rows into a temporary dataframe to examine records with null values in 'hf_score' and 'hf_rank'\n",
    "df_FreedonTemp2a = df_HumanFreedomIndex.loc[(df_HumanFreedomIndex['year'] == 2015) \n",
    "                                           & df_HumanFreedomIndex[\"hf_rank\"].isnull(), [\"year\",\"ISO_code\",\n",
    "                                           \"countries\",\"hf_score\",\"hf_rank\"]]\n",
    "\n",
    "df_FreedonTemp2b = df_HumanFreedomIndex.loc[(df_HumanFreedomIndex['year'] == 2015) \n",
    "                                           & df_HumanFreedomIndex[\"hf_score\"].isnull(), [\"year\",\"ISO_code\",\n",
    "                                           \"countries\",\"hf_score\",\"hf_rank\"]]"
   ]
  },
  {
   "cell_type": "code",
   "execution_count": null,
   "metadata": {},
   "outputs": [],
   "source": [
    "# Look at data rows with missing values for Human Freedom rankings for nations\n",
    "df_FreedonTemp2a.sort_values(\"hf_rank\")"
   ]
  },
  {
   "cell_type": "code",
   "execution_count": null,
   "metadata": {},
   "outputs": [],
   "source": [
    "# Look at data rows with missing values for Human Freedom scores for nations\n",
    "df_FreedonTemp2b.sort_values(\"hf_score\")"
   ]
  },
  {
   "cell_type": "markdown",
   "metadata": {},
   "source": [
    "Both dataframe are identical so the missing data is just for three countries. For simplicity we sources this missing data manually from the 'Human Freedon' PDF report and built a dataframe manually to patch the data"
   ]
  },
  {
   "cell_type": "code",
   "execution_count": null,
   "metadata": {},
   "outputs": [],
   "source": [
    "#set up dataframe to update missing Human Freedom Index scores\n",
    "# BLR hf_score = 3.65 hf_rank = 160\n",
    "# IRQ hf_score = 3.34 hf_rank = 161\n",
    "# SDN hf_score = 3.32 hf_rank = 162\n",
    "df_Cntry_To_Update_HF = pd.DataFrame({'ISO_Country_Cd': ['BLR','IRQ','SDN'],\n",
    "                   'hf_score': [2.65, 2.34, 2.32],\n",
    "                   'hf_rank': [161, 162, 163]})\n"
   ]
  },
  {
   "cell_type": "code",
   "execution_count": null,
   "metadata": {},
   "outputs": [],
   "source": [
    "# Display new manually create dataset with missing 'Human Freedom' values\n",
    "df_Cntry_To_Update_HF"
   ]
  },
  {
   "cell_type": "code",
   "execution_count": null,
   "metadata": {},
   "outputs": [],
   "source": [
    "# Write a python function to update a dataframe with attributes in another datafram\n",
    "# We will use this function to provide a re-usable mechanism to patch missing data in the datasets we are loading\n",
    "# from external sources\n",
    "\n",
    "def update_country_dataset_wtih_new_dataframe(to_df, from_df):\n",
    "    \n",
    "    for i in range(len(from_df)):\n",
    "    \n",
    "        index = to_df.index\n",
    "        condition = to_df[from_df.columns[0]] == from_df.iloc[i,0]\n",
    "        cntry_index = index[condition]\n",
    "        to_df.at[cntry_index, from_df.columns[1]] = from_df.iloc[i,1]\n",
    "        to_df.at[cntry_index, from_df.columns[2]] = from_df.iloc[i,2]\n",
    "        print(\"{}:Counter in Loop - Index in Temp = {} Country {}\\n\".format(i,cntry_index,from_df.iloc[i,0]))\n",
    "    \n",
    "    \n",
    "    return \"Update function complete\""
   ]
  },
  {
   "cell_type": "code",
   "execution_count": null,
   "metadata": {},
   "outputs": [],
   "source": [
    "# Call function to update main dataframe with new freedom scores\n",
    "update_country_dataset_wtih_new_dataframe(df_FreedonTemp1, df_Cntry_To_Update_HF)"
   ]
  },
  {
   "cell_type": "code",
   "execution_count": null,
   "metadata": {},
   "outputs": [],
   "source": [
    "# Checking for null values in Human Freedon Index dataframe\n",
    "[print('Any Null Values in the Human Freedon Index dataframe?','\\n' ,df_FreedonTemp1.isnull().any())]"
   ]
  },
  {
   "cell_type": "markdown",
   "metadata": {},
   "source": [
    "All missing 'human freedom' data is now in place."
   ]
  },
  {
   "cell_type": "code",
   "execution_count": null,
   "metadata": {},
   "outputs": [],
   "source": [
    "## Although it is an unlikely scenario - a quick check is run to see if any duplicate entires exist\n",
    "[print('Numbers of duplicated rows in the Human Freedon Index 2015 dataframe?','\\n' ,df_FreedonTemp1.duplicated().sum())]"
   ]
  },
  {
   "cell_type": "markdown",
   "metadata": {},
   "source": [
    "#### We will use this temporary 'human freedom' dataframe to augment our primary 'Happiness' dataframe in the section below. <a class=\"tocSkip\">"
   ]
  },
  {
   "cell_type": "markdown",
   "metadata": {},
   "source": [
    "# "
   ]
  },
  {
   "cell_type": "markdown",
   "metadata": {},
   "source": [
    "####  CIA WorldFact Data"
   ]
  },
  {
   "cell_type": "markdown",
   "metadata": {},
   "source": [
    "####  It is not necessary to filter for a given/date year as this dataset is the latest snapshot of the CIA Worldbook data. <a class=\"tocSkip\">"
   ]
  },
  {
   "cell_type": "markdown",
   "metadata": {},
   "source": [
    "The required data attributes are:\n",
    "\n",
    "```bash\n",
    "> 'internet_users' - the total number of Internet users per nation\n",
    "> 'life_exp_at_birth' - Live expectancy at birth, in years\n",
    "> 'population' - Total population\n",
    "```"
   ]
  },
  {
   "cell_type": "markdown",
   "metadata": {},
   "source": [
    "There are missing rows in the CIA dataset, which will need to be examined."
   ]
  },
  {
   "cell_type": "code",
   "execution_count": null,
   "metadata": {},
   "outputs": [],
   "source": [
    "# Checking for null values in CIA Worldbook dataframe\n",
    "[print('Any Null Values in the CIA Worldbook dataframe?','\\n' ,df_CIAFactbook.isnull().any())]"
   ]
  },
  {
   "cell_type": "markdown",
   "metadata": {},
   "source": [
    "Focus on the attributes that will be combbined with the primary 'happiness' index dataframe"
   ]
  },
  {
   "cell_type": "code",
   "execution_count": null,
   "metadata": {},
   "outputs": [],
   "source": [
    "# Look up missing values for Internet usage\n",
    "# Use a temporary dataframe for cleaning operations\n",
    "df_CIAFactsTemp = df_CIAFactbook.loc[(df_CIAFactbook[\"internet_users\"].isnull(), [\"country\",\"internet_users\",\n",
    "                                           \"life_exp_at_birth\",\"population\"])]"
   ]
  },
  {
   "cell_type": "code",
   "execution_count": null,
   "metadata": {},
   "outputs": [],
   "source": [
    "df_CIAFactsTemp"
   ]
  },
  {
   "cell_type": "markdown",
   "metadata": {},
   "source": [
    "None of these entries are important to our primary 'Happiness' dataframe, so they can be dropped."
   ]
  },
  {
   "cell_type": "code",
   "execution_count": null,
   "metadata": {},
   "outputs": [],
   "source": [
    "# Filter out entities with missing Internet Usahe Values\n",
    "df_CIAFactsTemp = df_CIAFactbook.loc[df_CIAFactbook[\"internet_users\"].notnull()]"
   ]
  },
  {
   "cell_type": "code",
   "execution_count": null,
   "metadata": {},
   "outputs": [],
   "source": [
    "# Look up missing values for Life Expectancy at birth\n",
    "df_CIAFactsTemp = df_CIAFactsTemp.loc[(df_CIAFactsTemp[\"life_exp_at_birth\"].notnull())]"
   ]
  },
  {
   "cell_type": "code",
   "execution_count": null,
   "metadata": {},
   "outputs": [],
   "source": [
    "#dataframe.iloc[:,[1,2]]\n",
    "df_CIAFactsTemp = df_CIAFactsTemp.iloc[:,[0,5,6,9]]"
   ]
  },
  {
   "cell_type": "code",
   "execution_count": null,
   "metadata": {},
   "outputs": [],
   "source": [
    "# The CIA Worldbook data has been cleaned - update dataframe\n",
    "df_CIAFactbook = df_CIAFactsTemp"
   ]
  },
  {
   "cell_type": "code",
   "execution_count": null,
   "metadata": {},
   "outputs": [],
   "source": [
    "# Rename the columns in the CIA Dataframe to improve readability of later visualisations\n",
    "df_CIAFactbook.rename(columns={'country':'Country',\n",
    "                        'internet_users':'Internet Users in Country',             \n",
    "                        'life_exp_at_birth':'Life Expectancy at Birth',\n",
    "                        'population':'Population'},inplace=True)"
   ]
  },
  {
   "cell_type": "code",
   "execution_count": null,
   "metadata": {},
   "outputs": [],
   "source": [
    "# Final check for null values in CIA Worldbook dataframe\n",
    "[print('Any Null Values in the CIA Worldbook dataframe?','\\n' ,df_CIAFactbook.isnull().any())]"
   ]
  },
  {
   "cell_type": "code",
   "execution_count": null,
   "metadata": {},
   "outputs": [],
   "source": [
    "## Although it is an unlikely scenario - a quick check is run to see if any CIA data duplicate entires exist\n",
    "[print('Numbers of duplicated rows in the CIA Worldbook dataframe?','\\n' ,df_CIAFactbook.duplicated().sum())]"
   ]
  },
  {
   "cell_type": "markdown",
   "metadata": {},
   "source": [
    "# "
   ]
  },
  {
   "cell_type": "markdown",
   "metadata": {},
   "source": [
    "# "
   ]
  },
  {
   "cell_type": "markdown",
   "metadata": {},
   "source": [
    "####  Political Regime Data"
   ]
  },
  {
   "cell_type": "markdown",
   "metadata": {},
   "source": [
    "####  We will build a dataframe based on our year of interest and correct for any data quality issues.<a class=\"tocSkip\">"
   ]
  },
  {
   "cell_type": "markdown",
   "metadata": {},
   "source": [
    "There is only required one required data attribute from this data:\n",
    "\n",
    "```bash\n",
    "> 'Regimes of the world -- the RoW measure' - Political Classification Vlaue (0 - 3)\n",
    "```\n",
    "\n",
    "This column name will be altered to improve graph (and code) readability. The Political Regime dataframe created for this project will be filtered to only include data rows for 2015."
   ]
  },
  {
   "cell_type": "code",
   "execution_count": null,
   "metadata": {},
   "outputs": [],
   "source": [
    "# Create the 2015 Policital Regimes dataframe"
   ]
  },
  {
   "cell_type": "code",
   "execution_count": null,
   "metadata": {},
   "outputs": [],
   "source": [
    "df_PolRegimes2015 = df_PolRegimes[df_PolRegimes['Year'] == 2015]"
   ]
  },
  {
   "cell_type": "code",
   "execution_count": null,
   "metadata": {},
   "outputs": [],
   "source": [
    "# Rename the main classification column in the Policital Regimes to improve readability of later visualisations\n",
    "# Change this column description for Country Code to match key in the primary 'Happiness' dataframe for later data merge \n",
    "df_PolRegimes2015.rename(columns={\n",
    "                        'Regimes of the world -- the RoW measure':'Pol Regime Classification',\n",
    "                        'Code' : 'ISO_Country_Cd' \n",
    "                        },inplace=True)"
   ]
  },
  {
   "cell_type": "code",
   "execution_count": null,
   "metadata": {},
   "outputs": [],
   "source": [
    "# Check missing values in the Country Code column  \n",
    "df_PolRegTemp = df_PolRegimes2015.loc[(df_PolRegimes2015[\"ISO_Country_Cd\"].isnull())]"
   ]
  },
  {
   "cell_type": "code",
   "execution_count": null,
   "metadata": {},
   "outputs": [],
   "source": [
    "df_PolRegTemp"
   ]
  },
  {
   "cell_type": "markdown",
   "metadata": {},
   "source": [
    "Two row entries for the Palestian Authority are missing an ISO Country code. As this data is missing from a number of the other datasets, this data will be dropped from our Policital Regimes 2015 dataframe"
   ]
  },
  {
   "cell_type": "code",
   "execution_count": null,
   "metadata": {},
   "outputs": [],
   "source": [
    "# Build Dataframe with no missing values in the Country Code column\n",
    "df_PolRegimes2015 = df_PolRegimes2015.loc[(df_PolRegimes2015[\"ISO_Country_Cd\"].notnull())]"
   ]
  },
  {
   "cell_type": "code",
   "execution_count": null,
   "metadata": {},
   "outputs": [],
   "source": [
    "# Final check for null values in Policital Regimes 2015 dataframe\n",
    "[print('Any Null Values in the Policital Regimes 2015 dataframe?','\\n' ,df_PolRegimes2015.isnull().any())]"
   ]
  },
  {
   "cell_type": "code",
   "execution_count": null,
   "metadata": {},
   "outputs": [],
   "source": [
    "## Although it is an unlikely scenario - a quick check is run to see if any Policital Regimes 2015 data duplicate entires exist\n",
    "[print('Numbers of duplicated rows in the Policital Regimes 2015 dataframe?','\\n' ,df_PolRegimes2015.duplicated().sum())]"
   ]
  },
  {
   "cell_type": "markdown",
   "metadata": {},
   "source": [
    "The Policital Regimes 2015 dataframe has now been cleaned and the following section will merge this data into the primary 'Happiness' dataframe."
   ]
  },
  {
   "cell_type": "markdown",
   "metadata": {},
   "source": [
    "# "
   ]
  },
  {
   "cell_type": "markdown",
   "metadata": {},
   "source": [
    "# "
   ]
  },
  {
   "cell_type": "markdown",
   "metadata": {},
   "source": [
    "### Merge Datasets\n",
    "Using common country identifiers across the datasets, we combine the data into a single new dataframe for further visualisation."
   ]
  },
  {
   "cell_type": "markdown",
   "metadata": {},
   "source": [
    "#### Kaggle Happiness + State Fragility dataframe"
   ]
  },
  {
   "cell_type": "code",
   "execution_count": null,
   "metadata": {},
   "outputs": [],
   "source": [
    "# Dataframe are slightly difference sizes - Check for differences"
   ]
  },
  {
   "cell_type": "code",
   "execution_count": null,
   "metadata": {},
   "outputs": [],
   "source": [
    "# Create Basis of merged dataframe - start with Kaggle Happiness 2015\n",
    "df_HappinessFactors_temp = df_WorldHappinessIndex.iloc[:, [0, 1, 2, 3, 9]]"
   ]
  },
  {
   "cell_type": "code",
   "execution_count": null,
   "metadata": {},
   "outputs": [],
   "source": [
    "# Next pick fields we want from State Fragility\n",
    "df_FragilityFactors_temp = df_GDPStateFragility_2015.iloc[:, [0, 1, 3, 4, 6]]"
   ]
  },
  {
   "cell_type": "code",
   "execution_count": null,
   "metadata": {},
   "outputs": [],
   "source": [
    "#Trim text values for string matching on country names\n",
    "df_HappinessFactors_temp['Country'] = df_HappinessFactors_temp['Country'].str.strip()\n",
    "df_FragilityFactors_temp['Country'] = df_FragilityFactors_temp['Country'].str.strip()"
   ]
  },
  {
   "cell_type": "code",
   "execution_count": null,
   "metadata": {},
   "outputs": [],
   "source": [
    "# Build our primary dataset on Happiness Factors per nation\n",
    "# Join on the 2015 Kaggle table and only select country data from the Fragility dataframe for which we have a happiness score\n",
    "# in the Kaggle dataframe\n",
    "df_HappinessFactorsbyNation = pd.merge(df_HappinessFactors_temp, df_FragilityFactors_temp, how=\"left\", on=[\"Country\"])"
   ]
  },
  {
   "cell_type": "markdown",
   "metadata": {},
   "source": [
    "## <a class=\"tocSkip\">"
   ]
  },
  {
   "cell_type": "markdown",
   "metadata": {},
   "source": [
    "#### The merging of these data frames provides our new primary 'happiness' dataframe with the following attributes;<a class=\"tocSkip\">\n",
    "\n",
    "```bash\n",
    " -  A More meaningful GDP data measure\n",
    " -  A 'Political Fragility' index. The higher the value, the less politically stable the county\n",
    "```\n",
    "\n",
    "The following data attribute will allow us to merge the additional datasets in this assignment;\n",
    "\n",
    "```bash\n",
    " -  ISO Coutry Code\n",
    "```\n"
   ]
  },
  {
   "cell_type": "code",
   "execution_count": null,
   "metadata": {},
   "outputs": [],
   "source": [
    "## Checking for null values in new Happiness Factors dataframe\n",
    "[print('Any Null Values in the new Happiness Factors dataframe?','\\n' ,df_HappinessFactorsbyNation.isnull().any())]"
   ]
  },
  {
   "cell_type": "code",
   "execution_count": null,
   "metadata": {},
   "outputs": [],
   "source": [
    "# Produce a table of countries missing an ISO Country Code\n",
    "df_tempISO = df_HappinessFactorsbyNation[df_HappinessFactorsbyNation[\"ISO_Country_Cd\"].isnull()]\n",
    "df_tempISO"
   ]
  },
  {
   "cell_type": "markdown",
   "metadata": {},
   "source": [
    "Gaps in the data have been introduced by country data that is missing a 'Political Fragility' index, which also results in missing ISO Country Codes for some nations.\n",
    "\n",
    "Looking at the nation list above, it was felt acceptable that these nations or political regions could be removed from our analysis.\n",
    "\n",
    "The 'Czech Republic' is completely missing from the State Fragility dataset."
   ]
  },
  {
   "cell_type": "code",
   "execution_count": null,
   "metadata": {},
   "outputs": [],
   "source": [
    "# Remove rows with no ISO Country Code\n",
    "df_HappinessFactorsbyNation = df_HappinessFactorsbyNation.loc[df_HappinessFactorsbyNation[\"ISO_Country_Cd\"].notnull()]"
   ]
  },
  {
   "cell_type": "markdown",
   "metadata": {},
   "source": [
    "#### What about the rows in the 'State Fragility' dataframe for which there is no 'happiness' index? <a class=\"tocSkip\">"
   ]
  },
  {
   "cell_type": "markdown",
   "metadata": {},
   "source": [
    "There are rows row individual nations in the State Fragility dataframe that in the original Kaggle Happiness dataset. \n",
    "\n",
    "Below is a quick examination of the nation entries being excluded from our new primary Happiness dataframe."
   ]
  },
  {
   "cell_type": "code",
   "execution_count": null,
   "metadata": {},
   "outputs": [],
   "source": [
    "# Check the countries in the State Fragile dataframe that do not exist in the Kaggle Happiness dataframe\n",
    "df_NoHappinessIndexFragileStates = pd.merge(df_FragilityFactors_temp, df_HappinessFactors_temp,  how=\"left\", on=[\"Country\"], \n",
    "                 indicator=True)\n",
    "\n",
    "# The 'indicator' flag allows us to isolate the nations that only exist in the State Fragility dataframe - those rows \n",
    "# are marked as 'left_only'\n",
    "df_NoHappinessIndexFragileStates = df_NoHappinessIndexFragileStates[df_NoHappinessIndexFragileStates[\"_merge\"] == 'left_only']"
   ]
  },
  {
   "cell_type": "code",
   "execution_count": null,
   "metadata": {},
   "outputs": [],
   "source": [
    "df_NoHappinessIndexFragileStates"
   ]
  },
  {
   "cell_type": "markdown",
   "metadata": {},
   "source": [
    "Many of these entries are small island nations, which presumably were not included in the analysis that led to the creation \n",
    "of the origina; Kaggle dataset.\n",
    "\n",
    "It is assumed, for the purposes of this assignment, that not including these countries in our visualisations will be acceptable. It will still be possible to determine useful data from our refined 'happiness' dataframe."
   ]
  },
  {
   "cell_type": "markdown",
   "metadata": {},
   "source": [
    "# "
   ]
  },
  {
   "cell_type": "markdown",
   "metadata": {},
   "source": [
    "#### New Happiness dataframe + 'Human Freedom' Attributes"
   ]
  },
  {
   "cell_type": "markdown",
   "metadata": {},
   "source": [
    "#### The merging of these data frames provides our new primary 'happiness' dataframe with the following attributes;<a class=\"tocSkip\">\n",
    "\n",
    "```bash\n",
    " -  A 'Human Freedom' ranking per nation\n",
    " -  A 'Freedom' score for each nation\n",
    "```"
   ]
  },
  {
   "cell_type": "code",
   "execution_count": null,
   "metadata": {},
   "outputs": [],
   "source": [
    "df_HpyFactor_Temp = df_HappinessFactorsbyNation"
   ]
  },
  {
   "cell_type": "code",
   "execution_count": null,
   "metadata": {},
   "outputs": [],
   "source": [
    "# Augment our primary dataset on Happiness Factors per nation\n",
    "# Join on the new Happiness Factors per nation datafram and only select country data from the 'Human Freedom' dataframe for \n",
    "# which we have a happiness score in the Happiness Factors dataframe\n",
    "df_HpyFactor_Temp = pd.merge(df_HpyFactor_Temp, df_FreedonTemp1, how=\"left\", on=[\"ISO_Country_Cd\"])"
   ]
  },
  {
   "cell_type": "code",
   "execution_count": null,
   "metadata": {},
   "outputs": [],
   "source": [
    "# The 'countries' attribute value is useful for a quick visual inspection (above) that the mergre of dataframe has worked\n",
    "# correctly but that data is now redundat and can be removed\n",
    "df_HpyFactor_Temp.drop(columns=['year', 'countries'], inplace=True)"
   ]
  },
  {
   "cell_type": "markdown",
   "metadata": {},
   "source": [
    "Using external report data, the missing 'Human Freedom' values are added to a new temporary dataframe and used\n",
    "to update our primary 'Happiness Factors' dataframe.\n",
    "\n",
    "This information will be used for visualisations later in this assignment."
   ]
  },
  {
   "cell_type": "code",
   "execution_count": null,
   "metadata": {},
   "outputs": [],
   "source": [
    "#Set up another dataframe to update missing Human Freedom Index scores\n",
    "# UZB hf_score = 3.15 hf_rank = 163\n",
    "# TKM hf_score = 3.14 hf_rank = 164\n",
    "# DJI hf_score = 3.12 hf_rank = 165\n",
    "# COM hf_score = 3.09 hf_rank = 166\n",
    "# AFG hf_score = 3.05 hf_rank = 167\n",
    "df_Cntry_To_Update_FreedomScr = pd.DataFrame({'ISO_Country_Cd': ['UZB','TKM','DJI','COM','AFG','SOM'],\n",
    "                   'hf_score': [2.15, 2.14, 2.12, 2.09, 2.05, 2.01],                  \n",
    "                    'hf_rank': [164, 165, 166, 167, 168, 169]})                                                                     "
   ]
  },
  {
   "cell_type": "code",
   "execution_count": null,
   "metadata": {},
   "outputs": [],
   "source": [
    "# Call function to update main dataframe with new freedom scores\n",
    "update_country_dataset_wtih_new_dataframe(df_HpyFactor_Temp, df_Cntry_To_Update_FreedomScr)"
   ]
  },
  {
   "cell_type": "code",
   "execution_count": null,
   "metadata": {},
   "outputs": [],
   "source": [
    "df_HappinessFactorsbyNation = df_HpyFactor_Temp"
   ]
  },
  {
   "cell_type": "code",
   "execution_count": null,
   "metadata": {},
   "outputs": [],
   "source": [
    "del df_HpyFactor_Temp"
   ]
  },
  {
   "cell_type": "markdown",
   "metadata": {},
   "source": [
    "# "
   ]
  },
  {
   "cell_type": "markdown",
   "metadata": {},
   "source": [
    "####  New Happiness + CIA WorldFact Data"
   ]
  },
  {
   "cell_type": "markdown",
   "metadata": {},
   "source": [
    "The attributes being added are:\n",
    "\n",
    "```bash\n",
    "> 'internet_users' - the total number of Internet users per nation\n",
    "> 'life_exp_at_birth' - Live expectancy at birth, in years\n",
    "> 'population' - Total population\n",
    "```"
   ]
  },
  {
   "cell_type": "code",
   "execution_count": null,
   "metadata": {},
   "outputs": [],
   "source": [
    "df_CIAFactbook"
   ]
  },
  {
   "cell_type": "code",
   "execution_count": null,
   "metadata": {},
   "outputs": [],
   "source": [
    "df_HpyFactor_CIATemp = df_HappinessFactorsbyNation\n",
    "#df_CIATemp_Data = df_CIAFactbook"
   ]
  },
  {
   "cell_type": "code",
   "execution_count": null,
   "metadata": {},
   "outputs": [],
   "source": [
    "# Augment our primary dataset on Happiness Factors per nation\n",
    "# Join on the new Happiness Factors per nation datafram and only select country data from the 'Human Freedom' dataframe for \n",
    "# which we have a happiness score in the Happiness Factors dataframe\n",
    "df_HpyFactor_CIATemp = pd.merge(df_HpyFactor_CIATemp, df_CIAFactbook, how=\"left\", on=[\"Country\"])"
   ]
  },
  {
   "cell_type": "code",
   "execution_count": null,
   "metadata": {},
   "outputs": [],
   "source": [
    "#df_HappyTemp = df_HpyFactor_CIATemp.loc[(df_HpyFactor_CIATemp[\"Internet Users in Country\"].isnull())]"
   ]
  },
  {
   "cell_type": "code",
   "execution_count": null,
   "metadata": {},
   "outputs": [],
   "source": [
    "df_HappinessFactorsbyNation = df_HpyFactor_CIATemp"
   ]
  },
  {
   "cell_type": "code",
   "execution_count": null,
   "metadata": {},
   "outputs": [],
   "source": [
    "del df_HpyFactor_CIATemp"
   ]
  },
  {
   "cell_type": "markdown",
   "metadata": {},
   "source": [
    "# "
   ]
  },
  {
   "cell_type": "markdown",
   "metadata": {},
   "source": [
    "#### New Happiness + Political Regime Data "
   ]
  },
  {
   "cell_type": "code",
   "execution_count": null,
   "metadata": {},
   "outputs": [],
   "source": [
    "#df_PolRegimes2015"
   ]
  },
  {
   "cell_type": "code",
   "execution_count": null,
   "metadata": {},
   "outputs": [],
   "source": [
    "#df_HappinessFactorsbyNation"
   ]
  },
  {
   "cell_type": "code",
   "execution_count": null,
   "metadata": {},
   "outputs": [],
   "source": [
    "# Use a temporary dataframe to check the merged dataframe and carry out data adjustments\n",
    "df_HpyFactor_PolRegTemp = df_HappinessFactorsbyNation"
   ]
  },
  {
   "cell_type": "code",
   "execution_count": null,
   "metadata": {},
   "outputs": [],
   "source": [
    "# Augment our primary dataset with Political Regime classification per nation by joining on the new Happiness Factors \n",
    "# per nation datafram and only select country data from the 'Political Regime dataframe for which we have a matching \n",
    "# ISO Country code \n",
    "df_HpyFactor_PolRegTemp = pd.merge(df_HpyFactor_PolRegTemp, df_PolRegimes2015, how=\"left\", on=[\"ISO_Country_Cd\"])"
   ]
  },
  {
   "cell_type": "code",
   "execution_count": null,
   "metadata": {},
   "outputs": [],
   "source": [
    "# Remove the added Political Regime attributes for Country and Year, which are redundant\n",
    "df_HpyFactor_PolRegTemp.drop(['Entity', 'Year'], axis=1, inplace=True)"
   ]
  },
  {
   "cell_type": "code",
   "execution_count": null,
   "metadata": {},
   "outputs": [],
   "source": [
    "df_HappinessFactorsbyNation = df_HpyFactor_PolRegTemp"
   ]
  },
  {
   "cell_type": "markdown",
   "metadata": {},
   "source": [
    "# "
   ]
  },
  {
   "cell_type": "markdown",
   "metadata": {},
   "source": [
    "##### <a class=\"tocSkip\">"
   ]
  },
  {
   "cell_type": "markdown",
   "metadata": {},
   "source": [
    "### Final Check on New Happiness Dataframe"
   ]
  },
  {
   "cell_type": "markdown",
   "metadata": {},
   "source": [
    "### Run final check on structure / content of new primary dataframe for 'happiness' analysis. <a class=\"tocSkip\">"
   ]
  },
  {
   "cell_type": "code",
   "execution_count": null,
   "metadata": {},
   "outputs": [],
   "source": [
    "## Checking for null values in new Happiness Factors dataframe\n",
    "[print('Any Null Values in the new Happiness Factors dataframe?','\\n' ,df_HappinessFactorsbyNation.isnull().any())]"
   ]
  },
  {
   "cell_type": "code",
   "execution_count": null,
   "metadata": {},
   "outputs": [],
   "source": [
    "## Although it is an unlikely scenario - a quick check is run to see if any duplicate entires exist\n",
    "[print('Numbers of duplicated rows in the Happiness Factors Dataframe?','\\n' ,df_HappinessFactorsbyNation.duplicated().sum())]"
   ]
  },
  {
   "cell_type": "markdown",
   "metadata": {},
   "source": [
    "#### The new Global Happiness Dataframe is now prepared and ready for visual analysis <a class=\"tocSkip\">"
   ]
  },
  {
   "cell_type": "code",
   "execution_count": null,
   "metadata": {},
   "outputs": [],
   "source": [
    "# Check new Happiness Factors dataframe\n",
    "df_HappinessFactorsbyNation"
   ]
  },
  {
   "cell_type": "markdown",
   "metadata": {},
   "source": [
    "## <a class=\"tocSkip\">"
   ]
  },
  {
   "cell_type": "markdown",
   "metadata": {},
   "source": [
    "\n"
   ]
  },
  {
   "cell_type": "markdown",
   "metadata": {},
   "source": [
    "# "
   ]
  },
  {
   "cell_type": "markdown",
   "metadata": {},
   "source": [
    "## Data Exploration: Augmented Global 'Happiness' Dataframe "
   ]
  },
  {
   "cell_type": "markdown",
   "metadata": {},
   "source": [
    "### Carry out exploration of this dataframe to develop an overall understanding of the data. <a class=\"tocSkip\">"
   ]
  },
  {
   "cell_type": "markdown",
   "metadata": {},
   "source": [
    "### <a class=\"tocSkip\">"
   ]
  },
  {
   "cell_type": "markdown",
   "metadata": {},
   "source": [
    "### Grouping of Nations Per Geographical Regions"
   ]
  },
  {
   "cell_type": "markdown",
   "metadata": {},
   "source": [
    "#### Bar Chart - Countries Per Region"
   ]
  },
  {
   "cell_type": "markdown",
   "metadata": {},
   "source": [
    "#### Bar chart: Present the number of countries in out reworked dataframe based on their global regions <a class=\"tocSkip\">"
   ]
  },
  {
   "cell_type": "code",
   "execution_count": null,
   "metadata": {},
   "outputs": [],
   "source": [
    "# Group the count of countries by region and present in a bar chart\n",
    "plt.style.use(\"seaborn\")\n",
    "plt.title(\"Distribution of Nations Per Geographical Regions\")\n",
    "plt.yticks(rotation=70)\n",
    "df_HappinessFactorsbyNation.groupby('Region').size().plot(kind='bar',figsize=(15,7))"
   ]
  },
  {
   "cell_type": "markdown",
   "metadata": {},
   "source": [
    "#### Choropleth Global Maps "
   ]
  },
  {
   "cell_type": "markdown",
   "metadata": {},
   "source": [
    "#### These next three global maps visually display: <a class=\"tocSkip\">\n",
    "\n",
    "```bash\n",
    "> Global Regional Breakdown\n",
    "> Global Happiness by colour scale\n",
    "> Global Political Fragility by colour scale    \n",
    "```  "
   ]
  },
  {
   "cell_type": "markdown",
   "metadata": {},
   "source": [
    "#### As these are Plotly graphs there is a certain about of interactivity provided, either through clicking the legend entries or hovering over the country outlines  <a class=\"tocSkip\">"
   ]
  },
  {
   "cell_type": "code",
   "execution_count": null,
   "metadata": {},
   "outputs": [],
   "source": [
    "## Show a global countries by geogrpahical region\n",
    "## Map Settings\n",
    "figGRegClr = px.choropleth(df_HappinessFactorsbyNation, \n",
    "                    locations = 'ISO_Country_Cd',\n",
    "                    color = 'Region')\n",
    "\n",
    "## Title and Legend Settings\n",
    "figGRegClr.update_layout( # customize font and legend orientation & position\n",
    "    font_family=\"Rockwell\",\n",
    "    height=700,\n",
    "    width=950,\n",
    "    title=dict(\n",
    "        text=\"Colour Representation of Global Regions Examined in this Assignment\",\n",
    "        font_size=20\n",
    "        ), \n",
    "    legend=dict(\n",
    "         title='Regional Areas - Click To Isolate',\n",
    "         itemclick=\"toggleothers\",\n",
    "         orientation=\"h\", \n",
    "         y=0.88, \n",
    "         yanchor=\"bottom\", \n",
    "         x=1.0, \n",
    "         xanchor=\"right\"\n",
    "        ),\n",
    "     margin=dict(\n",
    "           l=10,\n",
    "           r=60,\n",
    "           b=5,\n",
    "           t=60,\n",
    "                ),\n",
    "     )\n",
    "\n",
    "figGRegClr.show()"
   ]
  },
  {
   "cell_type": "code",
   "execution_count": null,
   "metadata": {},
   "outputs": [],
   "source": [
    "## Show a global representation of happiness\n",
    "## Map Settings\n",
    "figHpptRnk = px.choropleth(df_HappinessFactorsbyNation, \n",
    "                    locations = 'ISO_Country_Cd',\n",
    "                    color = 'Happiness Rank', # 'Happiness Rank' is an attribute from our new primary dataframe\n",
    "                    hover_name = 'Country', # column to add to hover information\n",
    "                    color_continuous_scale=px.colors.sequential.Plasma)\n",
    "\n",
    "## Title and Legend Settings\n",
    "figHpptRnk.update_layout( # customize font and legend orientation & position\n",
    "    font_family=\"Rockwell\",\n",
    "    height=550,\n",
    "    width=950,\n",
    "    title=dict(\n",
    "        text=\"Colour Representation of Happiness by Nation (Higher Rank - Less 'Happy')\",\n",
    "        font_size=20\n",
    "        ), \n",
    "     )\n",
    "\n",
    "figHpptRnk.show()"
   ]
  },
  {
   "cell_type": "code",
   "execution_count": null,
   "metadata": {},
   "outputs": [],
   "source": [
    "# Global map by Political Fragility"
   ]
  },
  {
   "cell_type": "code",
   "execution_count": null,
   "metadata": {},
   "outputs": [],
   "source": [
    "## Show a global representation of happiness\n",
    "figPoltFglty = px.choropleth(df_HappinessFactorsbyNation, \n",
    "                    locations = 'ISO_Country_Cd',\n",
    "                    color = 'Political Fragility', # 'Political Fragility' is an attribute from our new primary dataframe\n",
    "                    hover_name = 'Country', # column to add to hover information\n",
    "                    color_continuous_scale=px.colors.sequential.Aggrnyl)\n",
    "\n",
    "## Title and Legend Settings\n",
    "figPoltFglty.update_layout( # customize font and legend orientation & position\n",
    "    font_family=\"Rockwell\",\n",
    "    height=550,\n",
    "    width=950,\n",
    "    title=dict(\n",
    "        text=\"Colour Representation of Happiness by Political Fragility (Higher Rank - Less 'Stable')\",\n",
    "        font_size=20\n",
    "        ), \n",
    "     )\n",
    "\n",
    "figPoltFglty.show()"
   ]
  },
  {
   "cell_type": "markdown",
   "metadata": {},
   "source": [
    "#### Box Plots of Attributes Contributing to 'Happiness'"
   ]
  },
  {
   "cell_type": "markdown",
   "metadata": {},
   "source": [
    "#### Our new dataframe contains a number of numerical scores reflecting key characteristics of regions and countries. These followin box plots show the spread of values for this attributes acorss the nations in the dataframe. <a class=\"tocSkip\">"
   ]
  },
  {
   "cell_type": "markdown",
   "metadata": {},
   "source": [
    "First: an examination of the 'happiness score' from the original Kaggle dataset. \n",
    "\n",
    "This graph shows the spread of happiness scores across regions. Of note is that 'Western Europe' has a comparable distribution of happiness score to other regions but they are generally much higher.\n",
    "\n",
    "The 'Middle East and Northern Africa' contains a greater mix of national characteristics (wealth, government, etc.) and has a much wider spread of happiness scores.\n",
    "\n"
   ]
  },
  {
   "cell_type": "code",
   "execution_count": null,
   "metadata": {},
   "outputs": [],
   "source": [
    "# Visualization of the level of Happiness by region\n",
    "fig_hypbox = px.box(df_HappinessFactorsbyNation, x=\"Region\", y=\"Happiness Score\", \n",
    "                                                color='Region',\n",
    "                                                points=\"all\",\n",
    "                                                title=\"Box Plot of Nations Happiness Per Region (Hover for Data)\",\n",
    "                                                hover_data=[\"Country\"] # add country to hover data\n",
    "                                                )\n",
    "fig_hypbox.update_yaxes( # the y-axis \n",
    "    title=dict(\n",
    "        text=\"Happiness Index\",\n",
    "        font_size=20\n",
    "        ), \n",
    "    showgrid=True\n",
    ")\n",
    "\n",
    "fig_hypbox.update_xaxes( # the y-axis \n",
    "    title=dict(\n",
    "        text=\"Region\",\n",
    "        font_size=20\n",
    "        ), \n",
    "    showgrid=True\n",
    ")\n",
    "\n",
    "\n",
    "\n",
    "## Title and Legend Settings\n",
    "fig_hypbox.update_layout( # customize font and legend orientation & position\n",
    "    font_family=\"Rockwell\",\n",
    "    height=700,\n",
    "    width=950,\n",
    "    title=dict(\n",
    "        font_size=23,\n",
    "        y=0.97,\n",
    "        ), \n",
    "    legend=dict(\n",
    "         title='Regional Areas - Click To Isolate',\n",
    "         itemclick=\"toggleothers\",\n",
    "         orientation=\"h\",\n",
    "         font_size=11,\n",
    "         y=0.965, \n",
    "         yanchor=\"bottom\", \n",
    "         x=1.0, \n",
    "         xanchor=\"right\"\n",
    "        ),\n",
    "     )\n",
    "\n",
    "fig_hypbox.show()"
   ]
  },
  {
   "cell_type": "markdown",
   "metadata": {},
   "source": [
    "On this Plotly box plot graph (and the ones below) the data elements habe been included and the use can hover over individual country 'dots'. \n",
    "\n",
    "This is particularly interesting to look at which countries are furthest from mean regional scores (or outliers)."
   ]
  },
  {
   "cell_type": "markdown",
   "metadata": {},
   "source": [
    "#### These next two Box Plots are deliberately rendered at a greater scale. This allows the user to hover over the data points.<a class=\"tocSkip\">"
   ]
  },
  {
   "cell_type": "markdown",
   "metadata": {},
   "source": [
    "#### The purpose of these box plots is to contrast the 'Human Freedom' score in each region against 'Life Expectancy at Birth'. As we might expect the two box plots are largely inversed but there are some interesting similarities in a region such as the 'Middle East and North Africa'. This will have a bearing on our conclusions in Section 3. <a class=\"tocSkip\">"
   ]
  },
  {
   "cell_type": "code",
   "execution_count": null,
   "metadata": {},
   "outputs": [],
   "source": [
    "# Box Plots of Human Freedom per Region"
   ]
  },
  {
   "cell_type": "code",
   "execution_count": null,
   "metadata": {},
   "outputs": [],
   "source": [
    "# plotly setup\n",
    "free_fig=go.Figure()\n",
    "\n",
    "\n",
    "\n",
    "# A plotly trace for each subcategory of Region\n",
    "# Set up a for-loop to build out each Box Plot graph (trace) in turn for each region based on happiness score\n",
    "for i, regions in enumerate(df_HappinessFactorsbyNation['Region'].unique()):\n",
    "\n",
    "    df_plot=df_HappinessFactorsbyNation[df_HappinessFactorsbyNation['Region']==regions]\n",
    "\n",
    "    free_fig.add_trace(go.Box(y=df_plot['Region'], x=df_plot['Political Fragility'],\n",
    "                         boxpoints='all',\n",
    "                         jitter=0.6, # add some jitter for a better separation between points\n",
    "                         pointpos=-1.8, # relative position of points wrt box\n",
    "                         line=dict(color='black'),\n",
    "                         fillcolor=colours[i], # Read from colour list defined at the start of the assignment\n",
    "                         hovertext = df_plot['Country'],\n",
    "                         name = regions))\n",
    "## End of For-Loop\n",
    "    \n",
    "\n",
    "# Show grid lines on x-axis for Freedom Index Score    \n",
    "free_fig.update_xaxes( # the y-axis \n",
    "    title=dict(\n",
    "        font_size=20\n",
    "        ), \n",
    "    showgrid=True\n",
    ")\n",
    "    \n",
    "# figure layout adjustments\n",
    "free_fig.update_layout(title='Freedom Index Breakdown Per Region',\n",
    "                  xaxis=dict(title='Human Freedom Index (Higher Values Denote Less Liberty)', zeroline=False),\n",
    "                  height=1000,\n",
    "                  yaxis=dict(\n",
    "                    autorange=True,\n",
    "                    gridcolor='rgb(255, 255, 255)',\n",
    "                    gridwidth=1\n",
    "                    ), \n",
    "                  margin=dict(\n",
    "                        l=10,\n",
    "                        r=60,\n",
    "                        b=10,\n",
    "                        t=30,\n",
    "                    ),\n",
    "                  xaxis_tickangle=45,\n",
    "                  template=\"simple_white\",\n",
    "                  showlegend=True)\n",
    "\n",
    "free_fig.update_traces(orientation='h')\n",
    "free_fig.show()"
   ]
  },
  {
   "cell_type": "code",
   "execution_count": null,
   "metadata": {},
   "outputs": [],
   "source": [
    "# Box Plots of Life Expectancy Per Region"
   ]
  },
  {
   "cell_type": "code",
   "execution_count": null,
   "metadata": {},
   "outputs": [],
   "source": [
    "# plotly setup\n",
    "life_exp_fig=go.Figure()\n",
    "\n",
    "\n",
    "\n",
    "# a plotly trace for each subcategory\n",
    "# Set up a for-loop to build out each Box Plot graph (trace) in turn for each region based on \n",
    "# Life Expectancy at Birth score\n",
    "for i, regions in enumerate(df_HappinessFactorsbyNation['Region'].unique()):\n",
    "\n",
    "    df_plot=df_HappinessFactorsbyNation[df_HappinessFactorsbyNation['Region']==regions]\n",
    "\n",
    "    life_exp_fig.add_trace(go.Box(y=df_plot['Region'], x=df_plot['Life Expectancy at Birth'],\n",
    "                         boxpoints='all',\n",
    "                         jitter=0.6, # add some jitter for a better separation between points\n",
    "                         pointpos=-1.8, # relative position of points wrt box\n",
    "                         line=dict(color='black'),\n",
    "                         #line=dict(color=colors[i]),\n",
    "                         #fillcolor='yellow',\n",
    "                         fillcolor=colours[i],\n",
    "                         hovertext = df_plot['Country'],\n",
    "                         name = regions))\n",
    "## End of For-Loop\n",
    "\n",
    "    \n",
    "# Show grid lines on x-axis for Freedom Index Score    \n",
    "life_exp_fig.update_xaxes( # the y-axis \n",
    "    title=dict(\n",
    "        font_size=20\n",
    "        ), \n",
    "    showgrid=True\n",
    ")    \n",
    "    \n",
    "# figure layout adjustments\n",
    "life_exp_fig.update_layout(title='Life Expectancy Breakdown Per Region',\n",
    "                  xaxis=dict(title='Life Expectancy (at Birth)', zeroline=False),\n",
    "                  height=1000,\n",
    "                  yaxis=dict(\n",
    "                    autorange=True,\n",
    "                    gridcolor='rgb(255, 255, 255)',\n",
    "                    gridwidth=1\n",
    "    ),\n",
    "                  margin=dict(\n",
    "                        l=10,\n",
    "                        r=60,\n",
    "                        b=10,\n",
    "                        t=30,\n",
    "                    ),\n",
    "                  xaxis_tickangle=45,\n",
    "                  template=\"simple_white\",\n",
    "                  showlegend=True)\n",
    "\n",
    "life_exp_fig.update_traces(orientation='h')\n",
    "life_exp_fig.show()"
   ]
  },
  {
   "cell_type": "markdown",
   "metadata": {},
   "source": [
    "## <a class=\"tocSkip\">"
   ]
  },
  {
   "cell_type": "markdown",
   "metadata": {},
   "source": [
    "#### Bar Chart: Political Regimes"
   ]
  },
  {
   "cell_type": "markdown",
   "metadata": {},
   "source": [
    "#### This Bar Chart shows the breakdown of Policial Regimes in nations across the geographical regions in our 'Happiness' dataframe.<a class=\"tocSkip\">"
   ]
  },
  {
   "cell_type": "markdown",
   "metadata": {},
   "source": [
    "#### We use this data later in the assignment to look at the effect of political governance on happiness.<a class=\"tocSkip\">"
   ]
  },
  {
   "cell_type": "code",
   "execution_count": null,
   "metadata": {},
   "outputs": [],
   "source": [
    "# Bar Chart on Political Regimes per Region Bar chart"
   ]
  },
  {
   "cell_type": "code",
   "execution_count": null,
   "metadata": {},
   "outputs": [],
   "source": [
    "# Set the Groupby argument for 'as_index' to false to preserve the 'Region' value in the new dataframe\n",
    "df_Regime_by_Region = df_HappinessFactorsbyNation.groupby(['Pol Regime Classification','Region'], as_index=False).count()"
   ]
  },
  {
   "cell_type": "code",
   "execution_count": null,
   "metadata": {},
   "outputs": [],
   "source": [
    "## Set up new column entry with a default value for the text version of Political Regime Classification\n",
    "df_Regime_by_Region['Political Regime'] = \"To be entered..\""
   ]
  },
  {
   "cell_type": "markdown",
   "metadata": {},
   "source": [
    "The Bar Chart Grouping in the upcoming Plotly graph will be easier to comprehend if we add a new column to our\n",
    "primary 'happiness' dataframe that represents a text description of a nations political regime"
   ]
  },
  {
   "cell_type": "code",
   "execution_count": null,
   "metadata": {},
   "outputs": [],
   "source": [
    "# Set up a short user defined function to update the text description of the nation's political regime\n",
    "# This will check the Political Regime Classification value and return the appropriate text\n",
    "def set_PolReg(df_row):\n",
    "    if df_row['Pol Regime Classification'] == 0:\n",
    "        ret_value = \"0 - Closed Autocracy\"\n",
    "    elif df_row['Pol Regime Classification'] == 1:\n",
    "        ret_value = \"1 - Electoral Autocracy\"\n",
    "    elif df_row['Pol Regime Classification'] == 2:\n",
    "        ret_value = \"2 - Electoral Democracy\"\n",
    "    elif df_row['Pol Regime Classification'] == 3:\n",
    "        ret_value = \"3 - Liberal Democracy\"\n",
    "    else:\n",
    "        ret_value = \"To be entered..\"\n",
    "    return ret_value"
   ]
  },
  {
   "cell_type": "code",
   "execution_count": null,
   "metadata": {},
   "outputs": [],
   "source": [
    "## Invoke the function to add text description for a politicla regime. This will be picked up in the legend\n",
    "## of the upcoming bar chart on regimes per region\n",
    "df_Regime_by_Region['Political Regime'] = df_Regime_by_Region.apply(set_PolReg, axis=1)"
   ]
  },
  {
   "cell_type": "code",
   "execution_count": null,
   "metadata": {},
   "outputs": [],
   "source": [
    "figPolReg = px.bar(df_Regime_by_Region,\n",
    "                  x=\"Region\",\n",
    "                  y=\"Country\",\n",
    "                  labels={\"Pol Regime Classification\": \"Political Regime\", \"Country\" : \"Number of Countries\"},\n",
    "                  color=df_Regime_by_Region['Political Regime'],\n",
    "                  color_discrete_map={ # replaces default color mapping by value\n",
    "                        \"0 - Closed Autocracy\": \"indianred\", \n",
    "                        \"1 - Electoral Autocracy\": \"goldenrod\", \n",
    "                        \"2 - Electoral Democracy\": \"teal\", \n",
    "                        \"3 - Liberal Democracy\": \"lightsteelblue\"\n",
    "                        },\n",
    "                  template=\"simple_white\"\n",
    "                  )\n",
    "\n",
    "figPolReg.update_yaxes( # the y-axis \n",
    "    title=dict(\n",
    "        font_size=20\n",
    "        ), \n",
    "    showgrid=True\n",
    ")\n",
    "\n",
    "figPolReg.update_xaxes( # the y-axis \n",
    "    title=dict(\n",
    "        font_size=20\n",
    "        ),\n",
    "    ticks=\"outside\",\n",
    "    showgrid=True\n",
    ")\n",
    "\n",
    "figPolReg.update_layout( # customize font and legend orientation & position\n",
    "    font_family=\"Rockwell\",\n",
    "    height=700,\n",
    "    title=dict(\n",
    "        text=\"Breakdown of Political Regime Types Per Region\",\n",
    "        font_size=20\n",
    "        ), \n",
    "    legend=dict(\n",
    "         title='Political Regimes  - Click To Zoom',\n",
    "         traceorder=\"reversed\",\n",
    "         itemclick=\"toggleothers\",\n",
    "         orientation=\"v\", \n",
    "         y=1.25, \n",
    "         yanchor=\"top\", \n",
    "         x=1, \n",
    "         xanchor=\"right\",\n",
    "         bgcolor=\"ghostwhite\",\n",
    "         bordercolor=\"Black\",\n",
    "         borderwidth=2\n",
    "        ),\n",
    "    margin=dict(\n",
    "          l=10,\n",
    "          r=60,\n",
    "          b=10,\n",
    "          t=150\n",
    "        )\n",
    "     )\n",
    "\n",
    "figPolReg.show()"
   ]
  },
  {
   "cell_type": "markdown",
   "metadata": {},
   "source": [
    "This graph allows the user to interactive view the relative numbers of countries governed by diffierent political regimes."
   ]
  },
  {
   "cell_type": "markdown",
   "metadata": {},
   "source": [
    "# "
   ]
  },
  {
   "cell_type": "markdown",
   "metadata": {},
   "source": [
    "# "
   ]
  },
  {
   "cell_type": "markdown",
   "metadata": {},
   "source": [
    "## Data Analysis: What can the data tell us?"
   ]
  },
  {
   "cell_type": "markdown",
   "metadata": {},
   "source": [
    "### Objective: Focus on a particular subset of the dataframe and drill down into it extracting details to answer a series of questions that are of interest to you as an analyst - Ideally the motivation for such questions would be framed within the context of a hypothetical use case scenario.<a class=\"tocSkip\">"
   ]
  },
  {
   "cell_type": "markdown",
   "metadata": {},
   "source": [
    "# "
   ]
  },
  {
   "cell_type": "markdown",
   "metadata": {},
   "source": [
    "### Our 'use case' for this data is very hypothetical and abstract but the insight being sought is how can governments, NGOs, and populations take actions make a nation more 'happy'?<a class=\"tocSkip\">"
   ]
  },
  {
   "cell_type": "markdown",
   "metadata": {},
   "source": [
    "### Happiness + GDP/Political Fragility"
   ]
  },
  {
   "cell_type": "markdown",
   "metadata": {},
   "source": [
    "#### Using our new dataframe, start with an analysis of how 'happiness; is impacted by GDP and Political Fragility.<a class=\"tocSkip\"> "
   ]
  },
  {
   "cell_type": "code",
   "execution_count": null,
   "metadata": {},
   "outputs": [],
   "source": [
    "# Set up colour palette for use in the horizonatal box plot\n",
    "colours = ['indianred','lightseagreen','goldenrod','magenta','green','blue','cyan','red',\n",
    "           'teal','mediumpurple','ghostwhite','honeydew','slateblue','darkorchid','darksalmon','darkgrey']"
   ]
  },
  {
   "cell_type": "code",
   "execution_count": null,
   "metadata": {},
   "outputs": [],
   "source": [
    "## Set up a scatter plot and line diagram to correlate 'happiness' with a nations GDP and political stability\n",
    "fig, (ax1, ax2) = plt.subplots(figsize = (17,6), ncols=2, sharey=False)\n",
    "\n",
    "\n",
    "## First compare GDP to the Kaggle 'Happiness Index'\n",
    "sns.scatterplot(x=df_HappinessFactorsbyNation['GDP per capita'],\n",
    "                y=df_HappinessFactorsbyNation['Happiness Score'],\n",
    "                ax=ax1).set(title='Relationship of GDP to Happiness')\n",
    "\n",
    "sns.regplot(x=df_HappinessFactorsbyNation['GDP per capita'],\n",
    "            y=df_HappinessFactorsbyNation['Happiness Score'],\n",
    "            ax=ax1,color=colours[0]) # From our pre-defined colour palette for the assignment\n",
    "\n",
    "\n",
    "## Then compare Political Fragility to the Kaggle 'Happiness Index'\n",
    "sns.scatterplot(x=df_HappinessFactorsbyNation['Political Fragility'],\n",
    "                y=df_HappinessFactorsbyNation['Happiness Score'],\n",
    "                ax=ax2).set(title='Relationship of Political Fragility to Happiness')\n",
    "\n",
    "sns.regplot(x=df_HappinessFactorsbyNation['Political Fragility'],\n",
    "            y=df_HappinessFactorsbyNation['Happiness Score'],\n",
    "            ax=ax2,color=colours[1]) # From our pre-defined colour palette for the assignment\n",
    "\n",
    "fig.suptitle('Compare Happiness Scores for Nations to GDP and Political Fragility')\n"
   ]
  },
  {
   "cell_type": "markdown",
   "metadata": {},
   "source": [
    "#### Although nations with a greater GDP are generally 'happier', there is a noticable pattern that after approximately 65K, further increases in GDP do not generate an increase in the Happiness Score for a country.<a class=\"tocSkip\">"
   ]
  },
  {
   "cell_type": "markdown",
   "metadata": {},
   "source": [
    "There is an argument that wealth generation activities for the population impact significantly on the 'happiness' of poorer countries. However, nations that are already wealthy should focus on different factors to improve the sense of 'happiness' for their citizens.\n",
    "\n",
    "Finland invests significantly in social infrastructure, which do not directly increase GDP, and this seems to bear dividens in terms of placing that nation close to the top of the 'happiness' list. (It has the top spot in the later 2019 report)."
   ]
  },
  {
   "cell_type": "markdown",
   "metadata": {},
   "source": [
    "#### However, as the political instability of a country increases (the Political Fragility index grows larger) there is a relatively impact on a nations 'happiness' - although there are some outliers.<a class=\"tocSkip\">"
   ]
  },
  {
   "cell_type": "markdown",
   "metadata": {},
   "source": [
    "Not surprisingly, stable government is critical for the 'happiness' of a country. Political leaders should bear this in mind if their objecive is a happy populace."
   ]
  },
  {
   "cell_type": "markdown",
   "metadata": {},
   "source": [
    "## <a class=\"tocSkip\">"
   ]
  },
  {
   "cell_type": "markdown",
   "metadata": {},
   "source": [
    "### Happiness + GDP/Internet Access"
   ]
  },
  {
   "cell_type": "markdown",
   "metadata": {},
   "source": [
    "### Next, again using our new dataframe, continue with an analysis of how 'happiness' is impacted by Regional Wealth and by what proportion of a nation's population has access to the Internet.<a class=\"tocSkip\">"
   ]
  },
  {
   "cell_type": "markdown",
   "metadata": {},
   "source": [
    "The CIA WorldFact dataset contains the size of the population in a given country that has access to the Internet. Using this value in conjunction with the overall population number it is possible to derive a % value, and determine if access to the Internet correlates with a nation's happiness."
   ]
  },
  {
   "cell_type": "code",
   "execution_count": null,
   "metadata": {},
   "outputs": [],
   "source": [
    "# Graph of Regional DP vs 'Happiness' vs Internet Use"
   ]
  },
  {
   "cell_type": "markdown",
   "metadata": {},
   "source": [
    "First Step is to add a column to the dataframe to calculate the proportion of a nation's population that has access to the Internet (Internet users as a percentage of total population)."
   ]
  },
  {
   "cell_type": "code",
   "execution_count": null,
   "metadata": {},
   "outputs": [],
   "source": [
    "# Add new derived column to primary 'happiness' dataframe to capture % of population in a country with Internet access\n",
    "df_HappinessFactorsbyNation['Internet Usage Pct'] = (\n",
    "             df_HappinessFactorsbyNation['Internet Users in Country'] / df_HappinessFactorsbyNation['Population'])\n",
    "           "
   ]
  },
  {
   "cell_type": "markdown",
   "metadata": {},
   "source": [
    "Create new temporary dataframe with Regional Grouped average values\n",
    "to build the desired bubble graph."
   ]
  },
  {
   "cell_type": "code",
   "execution_count": null,
   "metadata": {},
   "outputs": [],
   "source": [
    "# Set the Groupby argument for 'as_index' to false to preserve the 'Region' value in the new dataframe\n",
    "df_by_Region = df_HappinessFactorsbyNation.groupby(['Region'], as_index=False).mean()"
   ]
  },
  {
   "cell_type": "code",
   "execution_count": null,
   "metadata": {},
   "outputs": [],
   "source": [
    "# For improved visualisation on a later Buble graph a new string attribute is added with a more readable String capture\n",
    "# of the % of the population in a nation with Internet access\n",
    "df_by_Region['Internet Usage Pct_Txt'] = round(df_by_Region['Internet Usage Pct']*100, 1)\n",
    "df_by_Region['Internet Usage Pct_Txt'] = df_by_Region['Internet Usage Pct_Txt'].apply(str)\n",
    "df_by_Region['Internet Usage Pct_Txt'] = (\n",
    "                \"% of Population With Internet Access: \"\n",
    "                +df_by_Region['Internet Usage Pct_Txt']\n",
    "                +\"%\")   "
   ]
  },
  {
   "cell_type": "markdown",
   "metadata": {},
   "source": [
    "Generate a graph that related happiness to GDP but include 'bubbles' to reflect the percentage of population with access to the Internet."
   ]
  },
  {
   "cell_type": "markdown",
   "metadata": {},
   "source": [
    "To improve the visualisation this interactive graph groups the nations by regions and averages Happiness Scores, GDP, and Internet Access percentages for each region. "
   ]
  },
  {
   "cell_type": "code",
   "execution_count": null,
   "metadata": {},
   "outputs": [],
   "source": [
    "# Create graph for Regional Happiness v Regional GDP\n",
    "# Add bubble for Internet User Percentage on graph\n",
    "figi = px.scatter(title=\"Internet Access Per Region v Happiness v Regional GDP (Bubble Size Reflects Pop % with Internet Access)\",\n",
    "                  width=1000, height=700,\n",
    "                  text=df_by_Region['Region'],\n",
    "                  x=df_by_Region['GDP per capita'], \n",
    "                  y=df_by_Region['Happiness Score'],\n",
    "                  size=df_by_Region['Internet Usage Pct'],\n",
    "                  color=df_by_Region['Region'],\n",
    "                  hover_name=df_by_Region['Internet Usage Pct_Txt'],\n",
    "                  labels={ # replaces default labels by column name\n",
    "                        \"color\": \"Region\",  \n",
    "                        \"size\": \"% of Pop on Internet\", \n",
    "                        \"x\" : \"Average Regional GDP\",\n",
    "                        \"y\" : \"Average Regional Happiness Index Score\"\n",
    "                        },\n",
    "                  #log_x=True, \n",
    "                  size_max=75,\n",
    "                  template=\"simple_white\")\n",
    "\n",
    "figi.update_yaxes( # the y-axis \n",
    "    title=dict(\n",
    "        text=\"Happiness Index\",\n",
    "        font_size=20\n",
    "        ), \n",
    "    showgrid=True\n",
    ")\n",
    "\n",
    "figi.update_xaxes( # the y-axis \n",
    "    title=dict(\n",
    "        text=\"Average Regional GDP - $\",\n",
    "        font_size=20\n",
    "        ), \n",
    "    showgrid=True\n",
    ")\n",
    "\n",
    "figi.update_layout( # customize font and legend orientation & position\n",
    "    font_family=\"Rockwell\",\n",
    "    legend=dict(\n",
    "        title='Regional Areas - Click To Zoom',\n",
    "        itemclick=\"toggleothers\"\n",
    "    )\n",
    ")\n",
    "figi.show()"
   ]
  },
  {
   "cell_type": "markdown",
   "metadata": {},
   "source": [
    "#### Assessment from the above graph?<a class=\"tocSkip\">"
   ]
  },
  {
   "cell_type": "markdown",
   "metadata": {},
   "source": [
    "Looking at the global regional graph above it is hard to distinguish Internet Access from GDP. As nations get wealthier, access to the Internet improves and happiness increases.\n",
    "\n",
    "If a more granular view is taken on global data can we better determine the effect of greater access to the Internet on happiness?"
   ]
  },
  {
   "cell_type": "markdown",
   "metadata": {},
   "source": [
    "# "
   ]
  },
  {
   "cell_type": "markdown",
   "metadata": {},
   "source": [
    "#### In the code below we set up a scatter plot analysis of Happiness v Internet Access for just the top and bottom two regions in terms of their 'Happiness Index' <a class=\"tocSkip\">\n",
    "    \n",
    "```bash\n",
    "> Sub-Saharan Africa + Southern Asia - the 'least happy'\n",
    "> Western Europe + North America - the 'most happy'\n",
    "```"
   ]
  },
  {
   "cell_type": "code",
   "execution_count": null,
   "metadata": {},
   "outputs": [],
   "source": [
    "# Add two double scatter plot happiness v Internet access for top 2 and bottom 2"
   ]
  },
  {
   "cell_type": "code",
   "execution_count": null,
   "metadata": {},
   "outputs": [],
   "source": [
    "# Creat sub dataframe with the countries in the two regions with the lowest happiness scores\n",
    "df_AfroAsia = df_HappinessFactorsbyNation[df_HappinessFactorsbyNation['Region'].isin(['Sub-Saharan Africa','Southern Asia'])]"
   ]
  },
  {
   "cell_type": "code",
   "execution_count": null,
   "metadata": {},
   "outputs": [],
   "source": [
    "# Add Text Label colum to this new temporary dataframe to inidcate that these countries are in the lowest 'happiness' regions\n",
    "# The text label improves graph visualisation\n",
    "df_AfroAsia['Happiness Group'] = \"Lowest\""
   ]
  },
  {
   "cell_type": "code",
   "execution_count": null,
   "metadata": {},
   "outputs": [],
   "source": [
    "# Creat sub dataframe with the countries in the two regions with the highest happiness scores\n",
    "df_WestEuroNA = df_HappinessFactorsbyNation[df_HappinessFactorsbyNation['Region'].isin(['Western Europe','North America'])]"
   ]
  },
  {
   "cell_type": "code",
   "execution_count": null,
   "metadata": {},
   "outputs": [],
   "source": [
    "# Add Text Label colum to this new temporary dataframe to inidcate that these countries are in the highest 'happiness' regions\n",
    "# The text label improves graph visualisation\n",
    "df_WestEuroNA['Happiness Group'] = \"Highest\""
   ]
  },
  {
   "cell_type": "code",
   "execution_count": null,
   "metadata": {},
   "outputs": [],
   "source": [
    "# Concatenate dataframes\n",
    "df_LowerUpperHappinessRegions = pd.concat([df_AfroAsia, df_WestEuroNA], axis=0)"
   ]
  },
  {
   "cell_type": "code",
   "execution_count": null,
   "metadata": {},
   "outputs": [],
   "source": [
    "# Amend format of Internet Access Percentage for use in grpah axis\n",
    "df_LowerUpperHappinessRegions['Internet Usage Pct'] = round(df_LowerUpperHappinessRegions['Internet Usage Pct']*100, 1)"
   ]
  },
  {
   "cell_type": "code",
   "execution_count": null,
   "metadata": {},
   "outputs": [],
   "source": [
    "# The Scatter plot will contain a trendline to show the genral direction of the relationship between Internet Access and \n",
    "# happiness scores for nations\n",
    "figLU = px.scatter(df_LowerUpperHappinessRegions, \n",
    "                   x=\"Internet Usage Pct\", \n",
    "                   y=\"Happiness Score\",\n",
    "                   color=\"Region\", \n",
    "                   facet_row=\"Happiness Group\", \n",
    "                   facet_row_spacing=0.1,\n",
    "                   hover_data=[df_LowerUpperHappinessRegions['Country']],\n",
    "                   trendline=\"ols\", \n",
    "                   # Ordinary Least Squares regression line will be drawn for each discrete-color/symbol group\n",
    "                   template=\"seaborn\"\n",
    "                  )\n",
    "\n",
    "figLU.update_yaxes( # the y-axis \n",
    "    title=dict(\n",
    "        text=\"Happiness Index\",\n",
    "        font_size=20\n",
    "        ), \n",
    "    showgrid=True\n",
    ")\n",
    "\n",
    "figLU.update_xaxes( # the y-axis \n",
    "    title=dict(\n",
    "        text=\"% of Population With Access to Internet\",\n",
    "        font_size=20\n",
    "        ),\n",
    "    ticks=\"outside\",\n",
    "    showgrid=True\n",
    ")\n",
    "\n",
    "figLU.update_layout( # customize font and legend orientation & position\n",
    "    font_family=\"Rockwell\",\n",
    "    height=700,\n",
    "    title=dict(\n",
    "        text=\"Comparison of a Nations 'Happiness' Against the % of Population With Access to Internet\",\n",
    "        font_size=20\n",
    "        ), \n",
    "    legend=dict(\n",
    "         title='Regional Areas - Click To Zoom',\n",
    "         itemclick=\"toggleothers\",\n",
    "         orientation=\"h\", \n",
    "         y=1.0, \n",
    "         yanchor=\"bottom\", \n",
    "         x=1.0, \n",
    "         xanchor=\"right\"\n",
    "        ),\n",
    "    margin=dict(\n",
    "          l=10,\n",
    "          r=60,\n",
    "          b=10,\n",
    "          t=100\n",
    "        )\n",
    "     )\n",
    "\n",
    "    \n",
    "figLU.show()"
   ]
  },
  {
   "cell_type": "markdown",
   "metadata": {},
   "source": [
    "#### Assessment from the above graph?<a class=\"tocSkip\">"
   ]
  },
  {
   "cell_type": "markdown",
   "metadata": {},
   "source": [
    "The trendline relating Internet Access to Happiness is more marked for the 'Happier' Regions of Western Europe + North America. It could be argued that for these nations a focus from government around Internet rollout could be beneficial to help improve a population's happiness.\n",
    "\n",
    "For the 'less happy' nations the correlation line is less steep. it would be a fair assumption that other factors, such as moving out of poverty, are more important to generate happiness. Internet access without and associated increase in GDP would probably be of much less effect to improve 'happiness'."
   ]
  },
  {
   "cell_type": "markdown",
   "metadata": {},
   "source": [
    "# "
   ]
  },
  {
   "cell_type": "markdown",
   "metadata": {},
   "source": [
    "### Happiness + Human Freedom"
   ]
  },
  {
   "cell_type": "markdown",
   "metadata": {},
   "source": [
    "#### Next, conduct a Human Freedom Comparison to 'Happiness' to determine a relationship between personal liberty and happiness in a nation<a class=\"tocSkip\">"
   ]
  },
  {
   "cell_type": "markdown",
   "metadata": {},
   "source": [
    "The code for these scatter plots follow most of the conventions used in Section 3.2"
   ]
  },
  {
   "cell_type": "code",
   "execution_count": null,
   "metadata": {},
   "outputs": [],
   "source": [
    "## Rename Columns - to improve data understanding\n",
    "df_LowerUpperHappinessRegions.rename(columns={'hf_score':'Human Freedon Score', 'hf_rank':'Human Freedon Rank'},inplace=True)"
   ]
  },
  {
   "cell_type": "code",
   "execution_count": null,
   "metadata": {},
   "outputs": [],
   "source": [
    "# The Scatter plot will contain a trendline to show the genral direction of the relationship between the Human Freedom score and \n",
    "# happiness scores for nations\n",
    "figHF = px.scatter(df_LowerUpperHappinessRegions, \n",
    "                   x=\"Human Freedon Score\", \n",
    "                   y=\"Happiness Score\",\n",
    "                   color=\"Region\", \n",
    "                   facet_row=\"Happiness Group\", \n",
    "                   facet_row_spacing=0.1,\n",
    "                   hover_data=[df_LowerUpperHappinessRegions['Country']],\n",
    "                   trendline=\"ols\", #, \n",
    "                   # Ordinary Least Squares regression line will be drawn for each discrete-color/symbol group\n",
    "                   template=\"seaborn\"\n",
    "                  )\n",
    "\n",
    "figHF.update_yaxes( # the y-axis \n",
    "    title=dict(\n",
    "        text=\"Happiness Index\",\n",
    "        font_size=20\n",
    "        ), \n",
    "    showgrid=True\n",
    ")\n",
    "\n",
    "figHF.update_xaxes( # the y-axis \n",
    "    title=dict(\n",
    "        text=\"Human Freedom Score (The Higher The Better)\",\n",
    "        font_size=20\n",
    "        ),\n",
    "    ticks=\"outside\",\n",
    "    showgrid=True\n",
    ")\n",
    "\n",
    "figHF.update_layout( # customize font and legend orientation & position\n",
    "    font_family=\"Rockwell\",\n",
    "    height=700,\n",
    "    title=dict(\n",
    "        text=\"Comparison of a Nations 'Happiness' Against Freedom Score for Population\",\n",
    "        font_size=20\n",
    "        ), \n",
    "    legend=dict(\n",
    "         title='Regional Areas - Click To Zoom',\n",
    "         itemclick=\"toggleothers\",\n",
    "         orientation=\"h\", \n",
    "         y=1.0, \n",
    "         yanchor=\"bottom\", \n",
    "         x=1.0, \n",
    "         xanchor=\"right\"\n",
    "        ),\n",
    "    margin=dict(\n",
    "          l=10,\n",
    "          r=60,\n",
    "          b=10,\n",
    "          t=100\n",
    "        )\n",
    "     )\n",
    "\n",
    "    \n",
    "figHF.show()"
   ]
  },
  {
   "cell_type": "markdown",
   "metadata": {},
   "source": [
    "#### Assessment from the above graph?<a class=\"tocSkip\">"
   ]
  },
  {
   "cell_type": "markdown",
   "metadata": {},
   "source": [
    "Again we have looked at the two top and bottom regions in terms of 'happiness score'.\n",
    "\n",
    "In the top graph we can see that a nation's happiness (in the lower regions) is not strongly correlated to the Human Freedom Index. Considering the grpah in Section 3.1 it would seem to suggest that stable government is more important that government being considered liberal.\n",
    "\n",
    "Democratic processes are, obviously important, but poorer nations would appear to benefit more from programmes to reduce poverty. The lack of political instability also seems to be very important, even when the nation's government is autocratic in style and/or does not allow free elections.\n"
   ]
  },
  {
   "cell_type": "markdown",
   "metadata": {},
   "source": [
    "# "
   ]
  },
  {
   "cell_type": "markdown",
   "metadata": {},
   "source": [
    "### Happiness + Political Regimes "
   ]
  },
  {
   "cell_type": "markdown",
   "metadata": {},
   "source": [
    "This assignment has looked at the impact of political stability and personal freedom on a nation's happiness."
   ]
  },
  {
   "cell_type": "markdown",
   "metadata": {},
   "source": [
    "Now, the analysis will look at the types of government in place in the nations across the world and determine if this compliments the output of our analysis in the earlier segment of Section 3 of this assignment."
   ]
  },
  {
   "cell_type": "markdown",
   "metadata": {},
   "source": [
    "Looking at the political regime classifications in our dataframe, a 2 x 2 scatterplot graph will compare happiness v GDP for each regime."
   ]
  },
  {
   "cell_type": "code",
   "execution_count": null,
   "metadata": {},
   "outputs": [],
   "source": [
    "# Use a temporary dataframe based on the primary 'happiness' dataframe\n",
    "df_GlobalRegimes = df_HappinessFactorsbyNation"
   ]
  },
  {
   "cell_type": "code",
   "execution_count": null,
   "metadata": {},
   "outputs": [],
   "source": [
    "## Invoke the user defined function to add text description for a political regime. \n",
    "## This description will be picked up in the legend of the below scater chart on happiness v GDP v poliical regimes per region\n",
    "df_GlobalRegimes['Political Regime'] = df_GlobalRegimes.apply(set_PolReg, axis=1)"
   ]
  },
  {
   "cell_type": "code",
   "execution_count": null,
   "metadata": {},
   "outputs": [],
   "source": [
    "## Generate a Facet scatter plot from our primary 'Happiness' dataframe and compare agains the Political Regime Classifications\n",
    "## This graph may provide insight as to whether a population's relationship to happiness v wealth differs depending on the type\n",
    "## of govenment in the nation\n",
    "figHpyGDP_PolReg = px.scatter(df_GlobalRegimes, \n",
    "                              x='GDP per capita', \n",
    "                              y=\"Happiness Score\", \n",
    "                              color='Political Regime',\n",
    "                              color_discrete_map={ # replaces default color mapping by value\n",
    "                                \"0 - Closed Autocracy\": \"indianred\", \n",
    "                                \"1 - Electoral Autocracy\": \"goldenrod\", \n",
    "                                \"2 - Electoral Democracy\": \"teal\", \n",
    "                                \"3 - Liberal Democracy\": \"darkslateblue\"\n",
    "                                }, # Matrch colours to previous bar chart\n",
    "                              facet_col=df_GlobalRegimes['Political Regime'],\n",
    "                              hover_data=[df_GlobalRegimes['Country']],\n",
    "                              facet_col_wrap=2,\n",
    "                              log_x=True, \n",
    "                              # Add this settig to allow the graphs to better display the cluser of lower GDP nations\n",
    "                              trendline=\"ols\",\n",
    "                              # Ordinary Least Squares regression line will be drawn for each discrete-color/symbol group\n",
    "                              template=\"seaborn\",\n",
    "                              facet_row_spacing=0.15, # default is 0.07 when facet_col_wrap is used\n",
    "                              facet_col_spacing=0.07, # default is 0.03\n",
    "                              width=950\n",
    "                             )\n",
    "\n",
    "figHpyGDP_PolReg.update_yaxes( # the y-axis \n",
    "    title=dict(\n",
    "        text=\"Happiness Index\",\n",
    "        font_size=16\n",
    "        ),\n",
    "    showticklabels=True,\n",
    "    showgrid=True\n",
    ")\n",
    "\n",
    "figHpyGDP_PolReg.update_xaxes( # the x-axis \n",
    "    title=dict(\n",
    "        text=\"GDP - $\",\n",
    "        font_size=15\n",
    "        ),\n",
    "    showticklabels=True,\n",
    "    ticks=\"outside\",\n",
    "    showgrid=True\n",
    ")\n",
    "\n",
    "figHpyGDP_PolReg.update_layout( # customize font and legend orientation & position\n",
    "    font_family=\"Rockwell\",\n",
    "    showlegend=False,\n",
    "    height=800,\n",
    "    title=dict(\n",
    "        text=\"Comparison of a Nations 'Happiness' Against GDP By Political Regime - with Trendlines\",\n",
    "        font_size=20\n",
    "        ),\n",
    "    margin=dict(\n",
    "          l=10,\n",
    "          r=60,\n",
    "          b=10,\n",
    "          t=100\n",
    "        )\n",
    ")\n",
    "\n",
    "figHpyGDP_PolReg.show()"
   ]
  },
  {
   "cell_type": "markdown",
   "metadata": {},
   "source": [
    "#### Assessment from the above graphs?<a class=\"tocSkip\">"
   ]
  },
  {
   "cell_type": "markdown",
   "metadata": {},
   "source": [
    "From the above graphs it may be possible to infer the following assumptions and possible recommendations;  \n",
    "\n",
    "\n",
    "```bash\n",
    "> The gradual increase in happiness is relatively consistent across all political regimes, with some \n",
    "outliers/exceptions, as GDP increases.\n",
    "\n",
    "> General wealth contributes to happiness even when living in the more autocratic regimes. \n",
    "\n",
    "> Political reform is important to a populations happiness but without an corresponding increase in a nations wealth the happiness effects will be dimished.\n",
    "\n",
    "> Those populations in Liberal democracy seem more likely to be happy with greater wealth. This may indicate that they \n",
    "take their personal liberties as a basic assumtpion of life in those countries and are more focused on wealth \n",
    "accumulation.\n",
    "\n",
    "> It is probably an obvious statement but political reform on its own is not enough to guarantee that a population will be happy. It must be accompanied by greater access to resources. Hovering over the info points in the lower left graph \n",
    "shows that countries like Qatar and Oman offer little to their population in terms of the democratic process but \n",
    "their happiness index is nearly 7.\n",
    "```"
   ]
  },
  {
   "cell_type": "markdown",
   "metadata": {},
   "source": [
    "# "
   ]
  },
  {
   "cell_type": "markdown",
   "metadata": {},
   "source": [
    "## Conclusions"
   ]
  },
  {
   "cell_type": "markdown",
   "metadata": {},
   "source": [
    "#### The sub-sections in Section 3 of this assignment report capture the analysis output from the 'Happiness' data gathered. The high level points can be summarised as follows;<a class=\"tocSkip\">"
   ]
  },
  {
   "cell_type": "markdown",
   "metadata": {},
   "source": [
    "```bash\n",
    "> Poorer nations benefit most from an increase wealth generation in terms of increasing happiness. (An increase in GDP \n",
    "does not always translate directly to increased income for a population but it is a good indicator of a nation moving \n",
    "out of poverty).\n",
    "\n",
    "> A strong government that does not allow certain civili liberties to its citizens is still better, in terms of a \n",
    "nations happiness, that a weak government that may be attempting reform. The decline in happiness is significant as \n",
    "a goverment becomes more 'fragile'. The increase in happiness is less significant by the introduction of increased \n",
    "liberty. \n",
    "(Obviously political freedom is very desirable but it may be a question on focusing first on a solid government, \n",
    "and move onto reform second). \n",
    "```"
   ]
  },
  {
   "cell_type": "markdown",
   "metadata": {},
   "source": [
    "```bash\n",
    "> Richer nations have a greater focus on access to technology.\n",
    "\n",
    "> Richer nations also stop feeling more 'happy' after a certain plateau of GDP is reached (65K). After that point wealth generation seems to become ineffective in making a nation happy - although this is only seen with the few nations in \n",
    "this bracket.\n",
    "\n",
    "> Life Expectancy is very related to happiness, as one would expect. Health care refomr, food programmes, etc. \n",
    "will all add to happiness.\n",
    "```"
   ]
  },
  {
   "cell_type": "markdown",
   "metadata": {},
   "source": [
    "# "
   ]
  },
  {
   "cell_type": "markdown",
   "metadata": {},
   "source": [
    "## References"
   ]
  },
  {
   "cell_type": "markdown",
   "metadata": {},
   "source": [
    "#### Below are referenece links to the datasets used in this assignment <a class=\"tocSkip\">"
   ]
  },
  {
   "cell_type": "markdown",
   "metadata": {},
   "source": [
    "[1] Kaggle.com. 2021. World Happiness Report. [online] Available at: <https://www.kaggle.com/unsdsn/world-happiness> [Accessed 6 November 2021]."
   ]
  },
  {
   "cell_type": "markdown",
   "metadata": {},
   "source": [
    "[2]Our World in Data. 2021. GDP per capita vs State fragility. [online] Available at: <https://ourworldindata.org/grapher/gdp-per-capita-vs-state-fragility> [Accessed 6 November 2021]."
   ]
  },
  {
   "cell_type": "markdown",
   "metadata": {},
   "source": [
    "[3]Openintro.org. 2021. Human Freedom Index. [online] Available at: <https://www.openintro.org/data/index.php?data=hfi> [Accessed 5 November 2021]."
   ]
  },
  {
   "cell_type": "markdown",
   "metadata": {},
   "source": [
    "[4]Openintro.org. 2021. CIA Factbook Details on Countries. [online] Available at: <https://www.openintro.org/data/index.php?data=cia_factbook> [Accessed 6 November 2021]."
   ]
  },
  {
   "cell_type": "markdown",
   "metadata": {},
   "source": [
    "[5]Our World in Data. 2021. Political Regimes. [online] Available at: <https://ourworldindata.org/grapher/political-regimes> [Accessed 6 November 2021]."
   ]
  },
  {
   "cell_type": "markdown",
   "metadata": {},
   "source": [
    "# "
   ]
  },
  {
   "cell_type": "markdown",
   "metadata": {},
   "source": [
    "#### Below are links to reference pages for Jupyter Notebook Configuration (TOC)<a class=\"tocSkip\">"
   ]
  },
  {
   "cell_type": "markdown",
   "metadata": {},
   "source": [
    "https://jupyter-contrib-nbextensions.readthedocs.io/en/latest/nbextensions/toc2/README.html"
   ]
  },
  {
   "cell_type": "markdown",
   "metadata": {},
   "source": [
    "#### <a class=\"tocSkip\">"
   ]
  },
  {
   "cell_type": "markdown",
   "metadata": {},
   "source": [
    "#### Below are links to Seaborn Python Tutorials<a class=\"tocSkip\">"
   ]
  },
  {
   "cell_type": "markdown",
   "metadata": {},
   "source": [
    "https://seaborn.pydata.org/tutorial.html"
   ]
  },
  {
   "cell_type": "markdown",
   "metadata": {},
   "source": [
    "#### <a class=\"tocSkip\">"
   ]
  },
  {
   "cell_type": "markdown",
   "metadata": {},
   "source": [
    "#### Below are a list of the plotly.com function reference pages and code samples that provided guidance to the Plotly graphs used throughout this assignment.<a class=\"tocSkip\">"
   ]
  },
  {
   "cell_type": "markdown",
   "metadata": {},
   "source": [
    "https://plotly.com/python/styling-plotly-express/"
   ]
  },
  {
   "cell_type": "markdown",
   "metadata": {},
   "source": [
    "https://plotly.com/python/choropleth-maps/"
   ]
  },
  {
   "cell_type": "markdown",
   "metadata": {},
   "source": [
    "https://plotly.com/python/line-and-scatter/"
   ]
  },
  {
   "cell_type": "markdown",
   "metadata": {},
   "source": [
    "https://plotly.com/python/box-plots/"
   ]
  },
  {
   "cell_type": "markdown",
   "metadata": {},
   "source": [
    "https://plotly.com/python/bar-charts/"
   ]
  },
  {
   "cell_type": "markdown",
   "metadata": {},
   "source": [
    "https://plotly.com/python/legend/"
   ]
  },
  {
   "cell_type": "markdown",
   "metadata": {},
   "source": [
    "https://plotly.com/python/px-arguments/"
   ]
  },
  {
   "cell_type": "markdown",
   "metadata": {},
   "source": [
    "https://plotly.com/python/facet-plots/"
   ]
  },
  {
   "cell_type": "code",
   "execution_count": null,
   "metadata": {},
   "outputs": [],
   "source": []
  }
 ],
 "metadata": {
  "kernelspec": {
   "display_name": "Python 3",
   "language": "python",
   "name": "python3"
  },
  "language_info": {
   "codemirror_mode": {
    "name": "ipython",
    "version": 3
   },
   "file_extension": ".py",
   "mimetype": "text/x-python",
   "name": "python",
   "nbconvert_exporter": "python",
   "pygments_lexer": "ipython3",
   "version": "3.8.5"
  },
  "toc": {
   "base_numbering": 1,
   "nav_menu": {},
   "number_sections": true,
   "sideBar": true,
   "skip_h1_title": true,
   "title_cell": "Table of Contents",
   "title_sidebar": "Contents",
   "toc_cell": true,
   "toc_position": {
    "height": "659px",
    "left": "0px",
    "right": "1227.5px",
    "top": "87px",
    "width": "341.5px"
   },
   "toc_section_display": "block",
   "toc_window_display": true
  }
 },
 "nbformat": 4,
 "nbformat_minor": 2
}
